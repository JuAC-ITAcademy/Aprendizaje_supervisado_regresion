{
 "cells": [
  {
   "cell_type": "markdown",
   "id": "useful-generator",
   "metadata": {},
   "source": [
    "# Aprenentatge Supervisat - Regressions"
   ]
  },
  {
   "cell_type": "markdown",
   "id": "written-underground",
   "metadata": {},
   "source": [
    "## Nivell 1\n",
    "\n",
    "### Exercici 1\n",
    "Crea almenys tres models de regressió diferents per intentar predir el millor possible l’endarreriment dels vols (ArrDelay) de DelayedFlights.csv.\n",
    "\n",
    "### Exercici 2\n",
    "Compara’ls en base al MSE i al R2 .\n",
    "\n",
    "### Exercici 3\n",
    "Entrena’ls utilitzant els diferents paràmetres que admeten.\n",
    "\n",
    "### Exercici 4\n",
    "Compara el seu rendiment utilitzant l’aproximació traint/test o utilitzant totes les dades (validació interna)\n",
    "\n",
    "\n"
   ]
  },
  {
   "cell_type": "code",
   "execution_count": 1,
   "id": "tender-drawing",
   "metadata": {},
   "outputs": [],
   "source": [
    "# Librerías\n",
    "\n",
    "# Data wrangling\n",
    "#--------------------------------------------------\n",
    "\n",
    "import numpy as np\n",
    "import pandas as pd\n",
    "\n",
    "import missingno as msno \n",
    "\n",
    "# Data Visualization\n",
    "#--------------------------------------------------\n",
    "%matplotlib inline\n",
    "\n",
    "import matplotlib.pyplot as plt\n",
    "import seaborn as sns\n",
    "\n",
    "# Data Preprocessing\n",
    "#--------------------------------------------------\n",
    "from sklearn.impute import SimpleImputer\n",
    "from sklearn.preprocessing import OrdinalEncoder\n",
    "from sklearn.preprocessing import StandardScaler\n",
    "from sklearn.model_selection import train_test_split\n",
    "\n",
    "# Models\n",
    "#--------------------------------------------------\n",
    "from sklearn.linear_model import LinearRegression, ElasticNet, SGDRegressor\n",
    "from sklearn.neighbors import KNeighborsRegressor\n",
    "from sklearn.ensemble import RandomForestRegressor\n",
    "from sklearn.tree import DecisionTreeRegressor\n",
    "\n",
    "# Pipelines / Cross validation / Hyp. tunning\n",
    "#--------------------------------------------------\n",
    "from sklearn.model_selection import cross_val_score\n",
    "from sklearn.model_selection import RandomizedSearchCV, GridSearchCV\n",
    "from sklearn.pipeline import Pipeline\n",
    "from sklearn.feature_selection import RFECV, SelectKBest, f_regression\n",
    "\n",
    "\n",
    "# Metrics\n",
    "#--------------------------------------------------\n",
    "from sklearn.metrics import r2_score, mean_absolute_error, mean_squared_error\n",
    "from sklearn.inspection import permutation_importance\n",
    "\n",
    "# File management\n",
    "#--------------------------------------------------\n",
    "from joblib import dump, load\n",
    "import statsmodels.api as sm\n"
   ]
  },
  {
   "cell_type": "markdown",
   "id": "exciting-enforcement",
   "metadata": {},
   "source": [
    "Para los primeros cuatro ejercicios voy a seguir el siguiente flujo:\n",
    " 1. Cargar los archivos.\n",
    " 2. Preprocesado. \n",
    "  - 2.1. Creación de Nuevas variables. \n",
    "  - 2.2. Tratamiento missing values.\n",
    "  - 2.3. EDA / Correlación de variables.\n",
    "  - 2.4. Tratamiento de variables categóricas.\n",
    " 3. Instaciación y ajuste de modelos.\n",
    " 4. Evaluación de los modelos.\n",
    " \n"
   ]
  },
  {
   "cell_type": "code",
   "execution_count": 2,
   "id": "false-helena",
   "metadata": {},
   "outputs": [],
   "source": [
    "# Loading CSV\n",
    "df=pd.read_csv('vuelos_final.csv')"
   ]
  },
  {
   "cell_type": "code",
   "execution_count": 3,
   "id": "saving-concern",
   "metadata": {},
   "outputs": [
    {
     "name": "stdout",
     "output_type": "stream",
     "text": [
      "<class 'pandas.core.frame.DataFrame'>\n",
      "RangeIndex: 1936756 entries, 0 to 1936755\n",
      "Data columns (total 32 columns):\n",
      " #   Column             Dtype  \n",
      "---  ------             -----  \n",
      " 0   Date               object \n",
      " 1   DayOfYear          int64  \n",
      " 2   Year               int64  \n",
      " 3   Month              int64  \n",
      " 4   Day                int64  \n",
      " 5   DayOfWeek          int64  \n",
      " 6   Hour               int64  \n",
      " 7   Status             object \n",
      " 8   ArrDelay           float64\n",
      " 9   DepDelay           float64\n",
      " 10  TaxiIn             float64\n",
      " 11  TaxiOut            float64\n",
      " 12  CancellationCode   object \n",
      " 13  UniqueCarrier      object \n",
      " 14  CarrierName        object \n",
      " 15  TailNum            object \n",
      " 16  YearOfManufact     float64\n",
      " 17  Origin             object \n",
      " 18  Dest               object \n",
      " 19  FlightNum          int64  \n",
      " 20  Distance           int64  \n",
      " 21  Skyway             object \n",
      " 22  city_or            object \n",
      " 23  state_or           object \n",
      " 24  country            object \n",
      " 25  city_dest          object \n",
      " 26  state_dest         object \n",
      " 27  CarrierDelay       float64\n",
      " 28  WeatherDelay       float64\n",
      " 29  NASDelay           float64\n",
      " 30  SecurityDelay      float64\n",
      " 31  LateAircraftDelay  float64\n",
      "dtypes: float64(10), int64(8), object(14)\n",
      "memory usage: 472.8+ MB\n"
     ]
    }
   ],
   "source": [
    "df.info()"
   ]
  },
  {
   "cell_type": "markdown",
   "id": "controlling-devil",
   "metadata": {},
   "source": [
    "## 2. Preprocesado.\n",
    "### 2.1. Creación de nuevas variables.\n",
    "\n",
    "Voy a crear dos nuevas variables que nos indiquen el número de vuelos por hora y aeropuerto y el numero de vuelos por día y aeropuerto.\n"
   ]
  },
  {
   "cell_type": "code",
   "execution_count": 4,
   "id": "minus-edgar",
   "metadata": {},
   "outputs": [],
   "source": [
    "# New feature - Number of flights por hour on origin\n",
    "df=df.join(df.groupby(['Origin','Date','Hour'])[['FlightNum']].count(),\n",
    "           how='left',\n",
    "           on=['Origin','Date','Hour'],\n",
    "           rsuffix='h_')"
   ]
  },
  {
   "cell_type": "code",
   "execution_count": 5,
   "id": "sensitive-ghana",
   "metadata": {},
   "outputs": [],
   "source": [
    "# New feature - Number of flights por day on origin\n",
    "df=df.join(df.groupby(['Origin','Date'])[['FlightNum']].count(),\n",
    "           how='left',\n",
    "           on=['Origin','Date'],\n",
    "           rsuffix='d_')"
   ]
  },
  {
   "cell_type": "code",
   "execution_count": 6,
   "id": "mature-canvas",
   "metadata": {},
   "outputs": [],
   "source": [
    "df.rename(columns={'FlightNumh_':'flights_hour',\n",
    "                   'FlightNumd_':'flights_day'}, inplace=True)"
   ]
  },
  {
   "cell_type": "markdown",
   "id": "identified-helicopter",
   "metadata": {},
   "source": [
    "Elimino variables como:\n",
    "\n",
    " - Date,Year\n",
    " - CancellationCode.\n",
    " - CarrierName, TailNum, FlightNum.\n",
    " - city_or, state_or, city_dest, state_dest, country."
   ]
  },
  {
   "cell_type": "code",
   "execution_count": 7,
   "id": "proof-information",
   "metadata": {},
   "outputs": [],
   "source": [
    "# Drop features\n",
    "df.drop(axis=1,columns=['Date','Year','CancellationCode','CarrierName','TailNum','FlightNum',\n",
    "                        'city_or','state_or','city_dest','state_dest','country'], inplace=True)"
   ]
  },
  {
   "cell_type": "code",
   "execution_count": 8,
   "id": "guided-organizer",
   "metadata": {},
   "outputs": [],
   "source": [
    "# df.info()"
   ]
  },
  {
   "cell_type": "code",
   "execution_count": 9,
   "id": "piano-pontiac",
   "metadata": {},
   "outputs": [
    {
     "data": {
      "text/html": [
       "<div>\n",
       "<style scoped>\n",
       "    .dataframe tbody tr th:only-of-type {\n",
       "        vertical-align: middle;\n",
       "    }\n",
       "\n",
       "    .dataframe tbody tr th {\n",
       "        vertical-align: top;\n",
       "    }\n",
       "\n",
       "    .dataframe thead th {\n",
       "        text-align: right;\n",
       "    }\n",
       "</style>\n",
       "<table border=\"1\" class=\"dataframe\">\n",
       "  <thead>\n",
       "    <tr style=\"text-align: right;\">\n",
       "      <th></th>\n",
       "      <th>DayOfYear</th>\n",
       "      <th>Month</th>\n",
       "      <th>Day</th>\n",
       "      <th>DayOfWeek</th>\n",
       "      <th>Hour</th>\n",
       "      <th>Status</th>\n",
       "      <th>ArrDelay</th>\n",
       "      <th>DepDelay</th>\n",
       "      <th>TaxiIn</th>\n",
       "      <th>TaxiOut</th>\n",
       "      <th>...</th>\n",
       "      <th>Dest</th>\n",
       "      <th>Distance</th>\n",
       "      <th>Skyway</th>\n",
       "      <th>CarrierDelay</th>\n",
       "      <th>WeatherDelay</th>\n",
       "      <th>NASDelay</th>\n",
       "      <th>SecurityDelay</th>\n",
       "      <th>LateAircraftDelay</th>\n",
       "      <th>flights_hour</th>\n",
       "      <th>flights_day</th>\n",
       "    </tr>\n",
       "  </thead>\n",
       "  <tbody>\n",
       "    <tr>\n",
       "      <th>0</th>\n",
       "      <td>3</td>\n",
       "      <td>1</td>\n",
       "      <td>3</td>\n",
       "      <td>4</td>\n",
       "      <td>19</td>\n",
       "      <td>On time</td>\n",
       "      <td>-14.0</td>\n",
       "      <td>8.0</td>\n",
       "      <td>4.0</td>\n",
       "      <td>8.0</td>\n",
       "      <td>...</td>\n",
       "      <td>TPA</td>\n",
       "      <td>810</td>\n",
       "      <td>IAD-TPA</td>\n",
       "      <td>NaN</td>\n",
       "      <td>NaN</td>\n",
       "      <td>NaN</td>\n",
       "      <td>NaN</td>\n",
       "      <td>NaN</td>\n",
       "      <td>6</td>\n",
       "      <td>95</td>\n",
       "    </tr>\n",
       "    <tr>\n",
       "      <th>1</th>\n",
       "      <td>3</td>\n",
       "      <td>1</td>\n",
       "      <td>3</td>\n",
       "      <td>4</td>\n",
       "      <td>7</td>\n",
       "      <td>On time</td>\n",
       "      <td>2.0</td>\n",
       "      <td>19.0</td>\n",
       "      <td>5.0</td>\n",
       "      <td>10.0</td>\n",
       "      <td>...</td>\n",
       "      <td>TPA</td>\n",
       "      <td>810</td>\n",
       "      <td>IAD-TPA</td>\n",
       "      <td>NaN</td>\n",
       "      <td>NaN</td>\n",
       "      <td>NaN</td>\n",
       "      <td>NaN</td>\n",
       "      <td>NaN</td>\n",
       "      <td>9</td>\n",
       "      <td>95</td>\n",
       "    </tr>\n",
       "    <tr>\n",
       "      <th>2</th>\n",
       "      <td>3</td>\n",
       "      <td>1</td>\n",
       "      <td>3</td>\n",
       "      <td>4</td>\n",
       "      <td>6</td>\n",
       "      <td>On time</td>\n",
       "      <td>14.0</td>\n",
       "      <td>8.0</td>\n",
       "      <td>3.0</td>\n",
       "      <td>17.0</td>\n",
       "      <td>...</td>\n",
       "      <td>BWI</td>\n",
       "      <td>515</td>\n",
       "      <td>IND-BWI</td>\n",
       "      <td>NaN</td>\n",
       "      <td>NaN</td>\n",
       "      <td>NaN</td>\n",
       "      <td>NaN</td>\n",
       "      <td>NaN</td>\n",
       "      <td>2</td>\n",
       "      <td>39</td>\n",
       "    </tr>\n",
       "  </tbody>\n",
       "</table>\n",
       "<p>3 rows × 23 columns</p>\n",
       "</div>"
      ],
      "text/plain": [
       "   DayOfYear  Month  Day  DayOfWeek  Hour   Status  ArrDelay  DepDelay  \\\n",
       "0          3      1    3          4    19  On time     -14.0       8.0   \n",
       "1          3      1    3          4     7  On time       2.0      19.0   \n",
       "2          3      1    3          4     6  On time      14.0       8.0   \n",
       "\n",
       "   TaxiIn  TaxiOut  ... Dest  Distance   Skyway CarrierDelay  WeatherDelay  \\\n",
       "0     4.0      8.0  ...  TPA       810  IAD-TPA          NaN           NaN   \n",
       "1     5.0     10.0  ...  TPA       810  IAD-TPA          NaN           NaN   \n",
       "2     3.0     17.0  ...  BWI       515  IND-BWI          NaN           NaN   \n",
       "\n",
       "  NASDelay  SecurityDelay  LateAircraftDelay  flights_hour  flights_day  \n",
       "0      NaN            NaN                NaN             6           95  \n",
       "1      NaN            NaN                NaN             9           95  \n",
       "2      NaN            NaN                NaN             2           39  \n",
       "\n",
       "[3 rows x 23 columns]"
      ]
     },
     "execution_count": 9,
     "metadata": {},
     "output_type": "execute_result"
    }
   ],
   "source": [
    "df.head(3)"
   ]
  },
  {
   "cell_type": "markdown",
   "id": "casual-component",
   "metadata": {},
   "source": [
    "### 2.2. Tratamiento de valores nulos."
   ]
  },
  {
   "cell_type": "code",
   "execution_count": 10,
   "id": "latter-surgery",
   "metadata": {},
   "outputs": [
    {
     "data": {
      "text/plain": [
       "DayOfYear                 0\n",
       "Month                     0\n",
       "Day                       0\n",
       "DayOfWeek                 0\n",
       "Hour                      0\n",
       "Status                    0\n",
       "ArrDelay               8387\n",
       "DepDelay                  0\n",
       "TaxiIn                 7110\n",
       "TaxiOut                 455\n",
       "UniqueCarrier             0\n",
       "YearOfManufact       198385\n",
       "Origin                    0\n",
       "Dest                      0\n",
       "Distance                  0\n",
       "Skyway                    0\n",
       "CarrierDelay         689270\n",
       "WeatherDelay         689270\n",
       "NASDelay             689270\n",
       "SecurityDelay        689270\n",
       "LateAircraftDelay    689270\n",
       "flights_hour              0\n",
       "flights_day               0\n",
       "dtype: int64"
      ]
     },
     "execution_count": 10,
     "metadata": {},
     "output_type": "execute_result"
    }
   ],
   "source": [
    "df.isna().sum()"
   ]
  },
  {
   "cell_type": "code",
   "execution_count": 11,
   "id": "prompt-retrieval",
   "metadata": {},
   "outputs": [
    {
     "data": {
      "image/png": "[encoded data removed]",
      "text/plain": [
       "<Figure size 1728x720 with 3 Axes>"
      ]
     },
     "metadata": {
      "needs_background": "light"
     },
     "output_type": "display_data"
    }
   ],
   "source": [
    "# Missing Values\n",
    "msno.bar(df);"
   ]
  },
  {
   "cell_type": "markdown",
   "id": "stock-enzyme",
   "metadata": {},
   "source": [
    "Tenemos tres conjuntos de valores nulos, que trataremos de manera diferente:\n",
    " 1. Valores asociados a vuelos cancelados o desviados en las variables ArrDelay, DepDelay, TaxiIn y TaxiOut. Eliminaremos las filas de vuelos cancelados o desviados.\n",
    " 2. Valores nulos asociados al año de fabricación. Imputaremos la media.\n",
    " 3. Valores asociados a vuelos a tiempo. Imputaremos valor constante igual a cero."
   ]
  },
  {
   "cell_type": "code",
   "execution_count": 12,
   "id": "combined-berlin",
   "metadata": {},
   "outputs": [
    {
     "data": {
      "text/plain": [
       "array(['On time', 'Delayed', 'Highly Delayed'], dtype=object)"
      ]
     },
     "execution_count": 12,
     "metadata": {},
     "output_type": "execute_result"
    }
   ],
   "source": [
    "# Delaying Nan in Taxi In, Taxi Out and ArrDelay\n",
    "df.drop(index=df[(df.Status=='Cancelled') | (df.Status=='Diverted')].index,\n",
    "        axis=0,inplace=True)\n",
    "df.Status.unique()"
   ]
  },
  {
   "cell_type": "code",
   "execution_count": 13,
   "id": "postal-iraqi",
   "metadata": {},
   "outputs": [],
   "source": [
    "# Mean imputing for year of manufacturing\n",
    "year_imputer=SimpleImputer(strategy='mean')\n",
    "\n",
    "df.YearOfManufact=year_imputer.fit_transform(df.YearOfManufact.values.reshape(-1,1))\n"
   ]
  },
  {
   "cell_type": "code",
   "execution_count": 14,
   "id": "consistent-photograph",
   "metadata": {},
   "outputs": [],
   "source": [
    "# Zero imputing for Delay Causes\n",
    "\n",
    "causes_imputer=SimpleImputer(strategy='constant', fill_value=0)"
   ]
  },
  {
   "cell_type": "code",
   "execution_count": 15,
   "id": "satisfactory-venezuela",
   "metadata": {},
   "outputs": [],
   "source": [
    "causes=['CarrierDelay','WeatherDelay','NASDelay','SecurityDelay','LateAircraftDelay']\n",
    "\n",
    "df[causes]=causes_imputer.fit_transform(df[causes])"
   ]
  },
  {
   "cell_type": "code",
   "execution_count": 16,
   "id": "ordinary-advice",
   "metadata": {},
   "outputs": [
    {
     "data": {
      "text/plain": [
       "0"
      ]
     },
     "execution_count": 16,
     "metadata": {},
     "output_type": "execute_result"
    }
   ],
   "source": [
    "df.isna().sum().sum()"
   ]
  },
  {
   "cell_type": "code",
   "execution_count": 17,
   "id": "related-monkey",
   "metadata": {},
   "outputs": [],
   "source": [
    "df.to_csv('vuelos_final_pre.csv',index=False)"
   ]
  },
  {
   "cell_type": "markdown",
   "id": "genetic-survival",
   "metadata": {},
   "source": [
    "# Correlation Matrix"
   ]
  },
  {
   "cell_type": "code",
   "execution_count": 20,
   "id": "prime-moldova",
   "metadata": {},
   "outputs": [
    {
     "data": {
      "image/png": "[encoded data removed]",
      "text/plain": [
       "<Figure size 1296x576 with 2 Axes>"
      ]
     },
     "metadata": {
      "needs_background": "light"
     },
     "output_type": "display_data"
    }
   ],
   "source": [
    "\n",
    "# Matriz de correlación de las variables numéricas\n",
    "#---------------------------------------------------------------------------\n",
    "fig, axes = plt.subplots(figsize=(18, 8))\n",
    "\n",
    "sns.heatmap(df.corr(),\n",
    "           vmin=-1.0,\n",
    "           vmax=1.0,\n",
    "           annot=True, fmt='.3f',\n",
    "           mask=np.tri(18,18,k=-1,dtype=bool).T,\n",
    "           cmap='RdBu_r');"
   ]
  },
  {
   "cell_type": "markdown",
   "id": "composite-plaintiff",
   "metadata": {},
   "source": [
    "La variable ArrDelay, presenta una alta correlación con DepDelay, una correlación media con el grupo de causas de retraso y una correlación baja con las variables de tiempo en tierra (taxi in y taxi out)."
   ]
  },
  {
   "cell_type": "code",
   "execution_count": 21,
   "id": "breeding-saver",
   "metadata": {},
   "outputs": [],
   "source": [
    "#sns.pairplot(df);"
   ]
  },
  {
   "cell_type": "markdown",
   "id": "organic-seating",
   "metadata": {},
   "source": [
    "## Categorical features"
   ]
  },
  {
   "cell_type": "markdown",
   "id": "saved-isolation",
   "metadata": {},
   "source": [
    "Tenemos 5 variables categóricas con un elevado número de clases (303 aeropuertos de destino o más de 5000 rutas). Para la transformación numérica de estas variables utilizaré el método OrdinalEncoder, que asigna valores numéricos dando un orden a cada categoría. Creo que utilizar OneHotEncoding generaría un dataset con muchas features que dificultarñia el trabajo de computación. \n",
    "\n",
    "Esta aproximación podría tener sentido para categías como Status donde ordeno de mayor a menor el estado en función del tiempo de espera, pero no tiene mucho sentido con otras variables como Origin o Skyway.\n",
    "\n",
    "En la última parte del ejercicio probaré una aproximación diferente para codificar las variables categóricas."
   ]
  },
  {
   "cell_type": "code",
   "execution_count": 22,
   "id": "flexible-villa",
   "metadata": {},
   "outputs": [],
   "source": [
    "# Label encodind for status\n",
    "#Instanciar Encoder\n",
    "status_label=OrdinalEncoder(categories=[np.array(['On time','Delayed', 'Highly Delayed','Cancelled','Diverted'])])\n",
    "# Transforma variable\n",
    "df.Status=status_label.fit_transform(df['Status'].values.reshape(-1,1))"
   ]
  },
  {
   "cell_type": "code",
   "execution_count": 23,
   "id": "raising-stopping",
   "metadata": {},
   "outputs": [],
   "source": [
    "#  Label encoding for Origin\n",
    "# Instanciar encoder\n",
    "geo_encoding=OrdinalEncoder()\n",
    "# Declarar variables\n",
    "geo=['UniqueCarrier','Origin','Dest','Skyway']\n",
    "# Transformar variables\n",
    "df[geo]=geo_encoding.fit_transform(df[geo])"
   ]
  },
  {
   "cell_type": "markdown",
   "id": "completed-compact",
   "metadata": {},
   "source": [
    "## Modelado."
   ]
  },
  {
   "cell_type": "code",
   "execution_count": 24,
   "id": "retained-vocabulary",
   "metadata": {},
   "outputs": [],
   "source": [
    "# Preparación dataset\n",
    "X=df.drop(columns=['DayOfYear','flights_day','ArrDelay'])\n",
    "y=df['ArrDelay']\n",
    "\n",
    "# División en train/test\n",
    "X_train,X_test,y_train,y_test=train_test_split(X,y,random_state=1984,test_size=0.2)"
   ]
  },
  {
   "cell_type": "code",
   "execution_count": 25,
   "id": "listed-failure",
   "metadata": {},
   "outputs": [],
   "source": [
    "models={}"
   ]
  },
  {
   "cell_type": "markdown",
   "id": "charming-hanging",
   "metadata": {},
   "source": [
    "**Linear Regression**"
   ]
  },
  {
   "cell_type": "code",
   "execution_count": 26,
   "id": "average-spyware",
   "metadata": {},
   "outputs": [],
   "source": [
    "modelo='Linear'\n",
    "\n",
    "# Standarizar valores\n",
    "scaler=StandardScaler()\n",
    "X_train_transform=scaler.fit_transform(X_train) # Entreno y transformo\n",
    "X_test_transform=scaler.transform(X_test) # Transformo con los datos del train test\n",
    "\n",
    "#Instanciar el modelo\n",
    "linearReg=LinearRegression()\n",
    "\n",
    "#Ajustar el modelo\n",
    "linearReg.fit(X_train_transform,y_train)\n",
    "\n",
    "#Evaluar el modelo\n",
    "y_pred=linearReg.predict(X_test_transform)\n",
    "\n",
    "linearReg_MAE=(mean_absolute_error(y_test,y_pred))\n",
    "linearReg_MSE=(mean_squared_error(y_test,y_pred))\n",
    "linearReg_MRSE=np.sqrt(mean_squared_error(y_test,y_pred))\n",
    "linearReg_R2=r2_score(y_test,y_pred)\n",
    "\n",
    "models[modelo]=(linearReg_R2,linearReg_MAE,linearReg_MSE,linearReg_MRSE)"
   ]
  },
  {
   "cell_type": "markdown",
   "id": "proved-exhibition",
   "metadata": {},
   "source": [
    "**ElasticNet**"
   ]
  },
  {
   "cell_type": "code",
   "execution_count": 27,
   "id": "orange-laundry",
   "metadata": {},
   "outputs": [],
   "source": [
    "modelo='ElasticNet'\n",
    "\n",
    "# Standarizar valores\n",
    "scaler=StandardScaler()\n",
    "X_train_transform=scaler.fit_transform(X_train) # Entreno y transformo\n",
    "X_test_transform=scaler.transform(X_test) # Transformo con los datos del train test\n",
    "\n",
    "#Instanciar el modelo\n",
    "Elastic=ElasticNet()\n",
    "\n",
    "#Ajustar el modelo\n",
    "Elastic.fit(X_train_transform,y_train)\n",
    "\n",
    "#Evaluar el modelo\n",
    "y_pred=Elastic.predict(X_test_transform)\n",
    "\n",
    "Elastic_MAE=(mean_absolute_error(y_test,y_pred))\n",
    "Elastic_MSE=(mean_squared_error(y_test,y_pred))\n",
    "Elastic_MRSE=np.sqrt(mean_squared_error(y_test,y_pred))\n",
    "Elastic_R2=r2_score(y_test,y_pred)\n",
    "\n",
    "models[modelo]=(Elastic_R2,Elastic_MAE,Elastic_MSE,Elastic_MRSE)"
   ]
  },
  {
   "cell_type": "markdown",
   "id": "bridal-princeton",
   "metadata": {},
   "source": [
    "**SGDRegressor**"
   ]
  },
  {
   "cell_type": "code",
   "execution_count": 28,
   "id": "induced-stanley",
   "metadata": {},
   "outputs": [],
   "source": [
    "modelo='SGD'\n",
    "\n",
    "# Standarizar valores\n",
    "scaler=StandardScaler()\n",
    "X_train_transform=scaler.fit_transform(X_train) # Entreno y transformo\n",
    "X_test_transform=scaler.transform(X_test) # Transformo con los datos del train test\n",
    "\n",
    "#Instanciar el modelo\n",
    "SGD_R=SGDRegressor()\n",
    "\n",
    "#Ajustar el modelo\n",
    "SGD_R.fit(X_train_transform,y_train)\n",
    "\n",
    "#Evaluar el modelo\n",
    "y_pred=SGD_R.predict(X_test_transform)\n",
    "\n",
    "SGD_R_MAE=(mean_absolute_error(y_test,y_pred))\n",
    "SGD_R_MSE=(mean_squared_error(y_test,y_pred))\n",
    "SGD_R_MRSE=np.sqrt(mean_squared_error(y_test,y_pred))\n",
    "SGD_R_R2=r2_score(y_test,y_pred)\n",
    "\n",
    "models[modelo]=(SGD_R_R2,SGD_R_MAE,SGD_R_MSE,SGD_R_MRSE)"
   ]
  },
  {
   "cell_type": "markdown",
   "id": "printable-pierce",
   "metadata": {},
   "source": [
    "**RandomForest**"
   ]
  },
  {
   "cell_type": "code",
   "execution_count": 29,
   "id": "realistic-october",
   "metadata": {},
   "outputs": [
    {
     "name": "stderr",
     "output_type": "stream",
     "text": [
      "[Parallel(n_jobs=-1)]: Using backend ThreadingBackend with 8 concurrent workers.\n"
     ]
    },
    {
     "name": "stdout",
     "output_type": "stream",
     "text": [
      "building tree 1 of 100building tree 2 of 100building tree 3 of 100\n",
      "building tree 4 of 100\n",
      "\n",
      "building tree 5 of 100\n",
      "building tree 6 of 100\n",
      "building tree 7 of 100building tree 8 of 100\n",
      "\n",
      "\n",
      "building tree 9 of 100\n",
      "building tree 10 of 100\n",
      "building tree 11 of 100\n",
      "building tree 12 of 100\n",
      "building tree 13 of 100\n",
      "building tree 14 of 100\n",
      "building tree 15 of 100\n",
      "building tree 16 of 100\n",
      "building tree 17 of 100\n",
      "building tree 18 of 100\n",
      "building tree 19 of 100\n",
      "building tree 20 of 100\n",
      "building tree 21 of 100\n",
      "building tree 22 of 100\n",
      "building tree 23 of 100\n",
      "building tree 24 of 100\n",
      "building tree 25 of 100\n",
      "building tree 26 of 100\n",
      "building tree 27 of 100\n",
      "building tree 28 of 100\n",
      "building tree 29 of 100\n",
      "building tree 30 of 100\n",
      "building tree 31 of 100\n",
      "building tree 32 of 100\n",
      "building tree 33 of 100\n"
     ]
    },
    {
     "name": "stderr",
     "output_type": "stream",
     "text": [
      "[Parallel(n_jobs=-1)]: Done  25 tasks      | elapsed:  2.7min\n"
     ]
    },
    {
     "name": "stdout",
     "output_type": "stream",
     "text": [
      "building tree 34 of 100\n",
      "building tree 35 of 100\n",
      "building tree 36 of 100\n",
      "building tree 37 of 100\n",
      "building tree 38 of 100\n",
      "building tree 39 of 100\n",
      "building tree 40 of 100\n",
      "building tree 41 of 100\n",
      "building tree 42 of 100\n",
      "building tree 43 of 100\n",
      "building tree 44 of 100\n",
      "building tree 45 of 100\n",
      "building tree 46 of 100\n",
      "building tree 47 of 100\n",
      "building tree 48 of 100\n",
      "building tree 49 of 100\n",
      "building tree 50 of 100\n",
      "building tree 51 of 100\n",
      "building tree 52 of 100\n",
      "building tree 53 of 100\n",
      "building tree 54 of 100\n",
      "building tree 55 of 100\n",
      "building tree 56 of 100\n",
      "building tree 57 of 100\n",
      "building tree 58 of 100\n",
      "building tree 59 of 100\n",
      "building tree 60 of 100\n",
      "building tree 61 of 100\n",
      "building tree 62 of 100\n",
      "building tree 63 of 100\n",
      "building tree 64 of 100\n",
      "building tree 65 of 100\n",
      "building tree 66 of 100\n",
      "building tree 67 of 100\n",
      "building tree 68 of 100\n",
      "building tree 69 of 100\n",
      "building tree 70 of 100\n",
      "building tree 71 of 100\n",
      "building tree 72 of 100\n",
      "building tree 73 of 100\n",
      "building tree 74 of 100\n",
      "building tree 75 of 100\n",
      "building tree 76 of 100\n",
      "building tree 77 of 100\n",
      "building tree 78 of 100\n",
      "building tree 79 of 100\n",
      "building tree 80 of 100\n",
      "building tree 81 of 100\n",
      "building tree 82 of 100\n",
      "building tree 83 of 100\n",
      "building tree 84 of 100\n",
      "building tree 85 of 100\n",
      "building tree 86 of 100\n",
      "building tree 87 of 100\n",
      "building tree 88 of 100\n",
      "building tree 89 of 100\n",
      "building tree 90 of 100\n",
      "building tree 91 of 100\n",
      "building tree 92 of 100\n",
      "building tree 93 of 100\n",
      "building tree 94 of 100\n",
      "building tree 95 of 100\n",
      "building tree 96 of 100\n",
      "building tree 97 of 100\n",
      "building tree 98 of 100\n",
      "building tree 99 of 100\n",
      "building tree 100 of 100\n"
     ]
    },
    {
     "name": "stderr",
     "output_type": "stream",
     "text": [
      "[Parallel(n_jobs=-1)]: Done 100 out of 100 | elapsed:  9.0min finished\n",
      "[Parallel(n_jobs=8)]: Using backend ThreadingBackend with 8 concurrent workers.\n",
      "[Parallel(n_jobs=8)]: Done  25 tasks      | elapsed:    1.7s\n",
      "[Parallel(n_jobs=8)]: Done 100 out of 100 | elapsed:    5.8s finished\n"
     ]
    }
   ],
   "source": [
    "modelo='Random Forest'\n",
    "\n",
    "#Instanciar el modelo\n",
    "rf=RandomForestRegressor(n_jobs=-1,verbose=2)\n",
    "#Ajustar el modelo\n",
    "rf.fit(X_train,y_train)\n",
    "\n",
    "#Evaluar el modelo\n",
    "y_pred=rf.predict(X_test)\n",
    "\n",
    "rf_MAE=(mean_absolute_error(y_test,y_pred))\n",
    "rf_MSE=(mean_squared_error(y_test,y_pred))\n",
    "rf_MRSE=np.sqrt(mean_squared_error(y_test,y_pred))\n",
    "rf_R2=r2_score(y_test,y_pred)\n",
    "\n",
    "models[modelo]=(rf_R2,rf_MAE,rf_MSE,rf_MRSE)"
   ]
  },
  {
   "cell_type": "code",
   "execution_count": 30,
   "id": "distinct-appointment",
   "metadata": {},
   "outputs": [
    {
     "data": {
      "text/plain": [
       "['ramdom_forest_01.joblib']"
      ]
     },
     "execution_count": 30,
     "metadata": {},
     "output_type": "execute_result"
    }
   ],
   "source": [
    "# Saving random forest model\n",
    "dump(rf,'ramdom_forest_01.joblib')\n"
   ]
  },
  {
   "cell_type": "code",
   "execution_count": 31,
   "id": "harmful-artist",
   "metadata": {},
   "outputs": [],
   "source": [
    "rf=load('ramdom_forest_01.joblib')"
   ]
  },
  {
   "cell_type": "code",
   "execution_count": 32,
   "id": "proud-stroke",
   "metadata": {},
   "outputs": [
    {
     "data": {
      "text/html": [
       "<div>\n",
       "<style scoped>\n",
       "    .dataframe tbody tr th:only-of-type {\n",
       "        vertical-align: middle;\n",
       "    }\n",
       "\n",
       "    .dataframe tbody tr th {\n",
       "        vertical-align: top;\n",
       "    }\n",
       "\n",
       "    .dataframe thead th {\n",
       "        text-align: right;\n",
       "    }\n",
       "</style>\n",
       "<table border=\"1\" class=\"dataframe\">\n",
       "  <thead>\n",
       "    <tr style=\"text-align: right;\">\n",
       "      <th></th>\n",
       "      <th>r_2</th>\n",
       "      <th>MAE</th>\n",
       "      <th>MSE</th>\n",
       "      <th>MRSE</th>\n",
       "    </tr>\n",
       "  </thead>\n",
       "  <tbody>\n",
       "    <tr>\n",
       "      <th>Random Forest</th>\n",
       "      <td>0.994509</td>\n",
       "      <td>2.009657</td>\n",
       "      <td>17.482007</td>\n",
       "      <td>4.181149</td>\n",
       "    </tr>\n",
       "    <tr>\n",
       "      <th>Linear</th>\n",
       "      <td>0.993379</td>\n",
       "      <td>2.803121</td>\n",
       "      <td>21.079161</td>\n",
       "      <td>4.591205</td>\n",
       "    </tr>\n",
       "    <tr>\n",
       "      <th>SGD</th>\n",
       "      <td>0.993369</td>\n",
       "      <td>2.808525</td>\n",
       "      <td>21.110931</td>\n",
       "      <td>4.594663</td>\n",
       "    </tr>\n",
       "    <tr>\n",
       "      <th>ElasticNet</th>\n",
       "      <td>0.941728</td>\n",
       "      <td>7.833791</td>\n",
       "      <td>185.525995</td>\n",
       "      <td>13.620793</td>\n",
       "    </tr>\n",
       "  </tbody>\n",
       "</table>\n",
       "</div>"
      ],
      "text/plain": [
       "                    r_2       MAE         MSE       MRSE\n",
       "Random Forest  0.994509  2.009657   17.482007   4.181149\n",
       "Linear         0.993379  2.803121   21.079161   4.591205\n",
       "SGD            0.993369  2.808525   21.110931   4.594663\n",
       "ElasticNet     0.941728  7.833791  185.525995  13.620793"
      ]
     },
     "execution_count": 32,
     "metadata": {},
     "output_type": "execute_result"
    }
   ],
   "source": [
    "pd.DataFrame.from_dict(models,orient='index',columns=['r_2','MAE','MSE','MRSE']).sort_values(by='MAE')"
   ]
  },
  {
   "cell_type": "markdown",
   "id": "broke-variation",
   "metadata": {},
   "source": [
    "Todos los modelos dan muy buen rendimiento, probabeblente sea debido a la alta correlación entre ArrDelay y DepDelay. Veamos como predice la regresión lineal."
   ]
  },
  {
   "cell_type": "markdown",
   "id": "sonic-accreditation",
   "metadata": {},
   "source": [
    "**Diagnóstico regresión lineal**"
   ]
  },
  {
   "cell_type": "code",
   "execution_count": 33,
   "id": "unlike-intervention",
   "metadata": {},
   "outputs": [],
   "source": [
    "y_pred=linearReg.predict(X_test_transform)\n",
    "residuos=y_pred-y_test"
   ]
  },
  {
   "cell_type": "code",
   "execution_count": 34,
   "id": "operational-convenience",
   "metadata": {},
   "outputs": [
    {
     "data": {
      "image/png": "[encoded data removed]",
      "text/plain": [
       "<Figure size 864x720 with 6 Axes>"
      ]
     },
     "metadata": {
      "needs_background": "light"
     },
     "output_type": "display_data"
    }
   ],
   "source": [
    "# Gráficos\n",
    "# ==============================================================================\n",
    "fig, axes = plt.subplots(nrows=3, ncols=2, figsize=(12, 10))\n",
    "\n",
    "axes[0, 0].scatter(y_test, y_pred, edgecolors=(0, 0, 0), alpha = 0.4)\n",
    "axes[0, 0].plot([y_test.min(), y_test.max()], [y_test.min(), y_test.max()],\n",
    "                'k--', color = 'red', lw=2)\n",
    "axes[0, 0].set_title('Valor predicho vs valor real', fontsize = 10, fontweight = \"bold\")\n",
    "axes[0, 0].set_xlabel('Real')\n",
    "axes[0, 0].set_ylabel('Predicción')\n",
    "axes[0, 0].tick_params(labelsize = 7)\n",
    "\n",
    "axes[0, 1].scatter(list(range(len(y_test))), residuos,\n",
    "                   edgecolors=(0, 0, 0), alpha = 0.4)\n",
    "axes[0, 1].axhline(y = 0, linestyle = '--', color = 'red', lw=2)\n",
    "axes[0, 1].set_title('Residuos del modelo', fontsize = 10, fontweight = \"bold\")\n",
    "axes[0, 1].set_xlabel('id')\n",
    "axes[0, 1].set_ylabel('Residuo')\n",
    "axes[0, 1].tick_params(labelsize = 7)\n",
    "\n",
    "\n",
    "# AX[1,0] Distribución residuos\n",
    "sns.histplot(\n",
    "    data    = residuos,\n",
    "    stat    = \"density\",\n",
    "    kde     = True,\n",
    "    line_kws= {'linewidth': 1},\n",
    "    color   = \"firebrick\",\n",
    "    alpha   = 0.3,\n",
    "    ax      = axes[1, 0]\n",
    ")\n",
    "\n",
    "axes[1, 0].set_title('Distribución residuos del modelo', fontsize = 10,\n",
    "                     fontweight = \"bold\")\n",
    "axes[1, 0].set_xlabel(\"Residuo\")\n",
    "axes[1, 0].tick_params(labelsize = 7)\n",
    "\n",
    "# AX[1,1] QQ plot\n",
    "sm.qqplot(\n",
    "    residuos,\n",
    "    fit   = True,\n",
    "    line  = 'q',\n",
    "    ax    = axes[1, 1], \n",
    "    color = 'firebrick',\n",
    "    alpha = 0.4,\n",
    "    lw    = 2\n",
    ")\n",
    "\n",
    "\n",
    "axes[1, 1].set_title('Q-Q residuos del modelo', fontsize = 10, fontweight = \"bold\")\n",
    "axes[1, 1].tick_params(labelsize = 7)\n",
    "\n",
    "# AX[2,0] Residuos vs prediccion\n",
    "axes[2, 0].scatter(y_pred, residuos,\n",
    "                   edgecolors=(0, 0, 0), alpha = 0.4)\n",
    "axes[2, 0].axhline(y = 0, linestyle = '--', color = 'red', lw=2)\n",
    "axes[2, 0].set_title('Residuos del modelo vs predicción', fontsize = 10, fontweight = \"bold\")\n",
    "axes[2, 0].set_xlabel('Predicción')\n",
    "axes[2, 0].set_ylabel('Residuo')\n",
    "axes[2, 0].tick_params(labelsize = 7)\n",
    "\n",
    "# AX[2,1] Residuos vs real\n",
    "axes[2, 1].scatter(y_test, residuos,\n",
    "                   edgecolors=(0, 0, 0), alpha = 0.4)\n",
    "axes[2, 1].axhline(y = 0, linestyle = '--', color = 'red', lw=2)\n",
    "axes[2, 1].set_title('Residuos del modelo vs reales', fontsize = 10, fontweight = \"bold\")\n",
    "axes[2, 1].set_xlabel('Real')\n",
    "axes[2, 1].set_ylabel('Residuo')\n",
    "axes[2, 1].tick_params(labelsize = 7)\n",
    "\n",
    "fig.tight_layout()\n",
    "plt.subplots_adjust(top=0.9)\n",
    "fig.suptitle('Diagnóstico residuos', fontsize = 12, fontweight = \"bold\");"
   ]
  },
  {
   "cell_type": "markdown",
   "id": "blessed-combat",
   "metadata": {},
   "source": [
    "En general el modelo ajusta bien, aunque se observa mayor desviación en valores extremos, es decir para valores pequeños (inferiores a  cero) y para valores grandes (mayores de 600 miutos)"
   ]
  },
  {
   "cell_type": "markdown",
   "id": "devoted-davis",
   "metadata": {},
   "source": [
    "**Tunning SDG Regresor**\n",
    "\n",
    "El modelo SDG regresor (Stochastic Gradient Descent) es recomendado para datasets con elevado número de observaciones. Vamos a intentar mejorar su puntuación, para ello haremos uso de un método de entrenamiento aleatorio del modelo con valildación cruzada, RandomizedSearchCV: "
   ]
  },
  {
   "cell_type": "code",
   "execution_count": 35,
   "id": "going-working",
   "metadata": {},
   "outputs": [
    {
     "name": "stdout",
     "output_type": "stream",
     "text": [
      "Fitting 5 folds for each of 50 candidates, totalling 250 fits\n"
     ]
    },
    {
     "data": {
      "text/plain": [
       "RandomizedSearchCV(cv=5, estimator=SGDRegressor(), n_iter=50, n_jobs=-1,\n",
       "                   param_distributions={'alpha': [0.0001, 0.001, 0.01, 0.1, 1,\n",
       "                                                  10, 100],\n",
       "                                        'fit_intercept': [True, False],\n",
       "                                        'l1_ratio': [0.15, 0.3, 0.5, 0.75, 1],\n",
       "                                        'learning_rate': ['optimal',\n",
       "                                                          'invscaling',\n",
       "                                                          'constant'],\n",
       "                                        'max_iter': [100.0],\n",
       "                                        'penalty': ['l1', 'l2']},\n",
       "                   scoring='neg_mean_absolute_error', verbose=2)"
      ]
     },
     "execution_count": 35,
     "metadata": {},
     "output_type": "execute_result"
    }
   ],
   "source": [
    "# Escalar datos\n",
    "X_train_transform=scaler.fit_transform(X_train)\n",
    "X_test_transform=scaler.transform(X_test)\n",
    "\n",
    "# Instanciar el modelo\n",
    "\n",
    "SGD=SGDRegressor()\n",
    "\n",
    "# Grid del modelo\n",
    "\n",
    "SGD_params={'penalty':['l1','l2'],\n",
    "            'alpha':[0.0001,0.001,0.01,0.1,1,10,100],\n",
    "            'l1_ratio':[0.15,0.30,0.5,0.75,1],\n",
    "            'fit_intercept':[True,False],\n",
    "            'max_iter':[100.000],\n",
    "            'learning_rate':['optimal','invscaling','constant'],}\n",
    "\n",
    "# Randomized grid\n",
    "\n",
    "Random_SDG=RandomizedSearchCV(SGD,\n",
    "                              SGD_params,\n",
    "                              n_iter=50,\n",
    "                              scoring='neg_mean_absolute_error',\n",
    "                              n_jobs=-1,\n",
    "                              cv=5,\n",
    "                              verbose=2)\n",
    "\n",
    "# Ajustando\n",
    "\n",
    "Random_SDG.fit(X_train_transform,y_train)\n"
   ]
  },
  {
   "cell_type": "code",
   "execution_count": 36,
   "id": "tender-edwards",
   "metadata": {},
   "outputs": [
    {
     "data": {
      "text/plain": [
       "-2.8023238454599744"
      ]
     },
     "execution_count": 36,
     "metadata": {},
     "output_type": "execute_result"
    }
   ],
   "source": [
    "Random_SDG.best_score_"
   ]
  },
  {
   "cell_type": "code",
   "execution_count": 37,
   "id": "annual-explosion",
   "metadata": {},
   "outputs": [
    {
     "data": {
      "text/plain": [
       "SGDRegressor(l1_ratio=0.5, max_iter=100.0, penalty='l1')"
      ]
     },
     "execution_count": 37,
     "metadata": {},
     "output_type": "execute_result"
    }
   ],
   "source": [
    "Random_SDG.best_estimator_"
   ]
  },
  {
   "cell_type": "code",
   "execution_count": 38,
   "id": "usual-valve",
   "metadata": {},
   "outputs": [
    {
     "data": {
      "text/plain": [
       "['Random_SDG.joblib']"
      ]
     },
     "execution_count": 38,
     "metadata": {},
     "output_type": "execute_result"
    }
   ],
   "source": [
    "# Saving random SDG model\n",
    "dump(Random_SDG.best_estimator_,'Random_SDG.joblib')"
   ]
  },
  {
   "cell_type": "markdown",
   "id": "breathing-stevens",
   "metadata": {},
   "source": [
    "**Tunning ElasticNet**\n",
    "\n",
    "Vamos a probar diferentes parametros para el modelo de elasticnet: "
   ]
  },
  {
   "cell_type": "code",
   "execution_count": 39,
   "id": "eligible-category",
   "metadata": {},
   "outputs": [
    {
     "name": "stdout",
     "output_type": "stream",
     "text": [
      "Fitting 5 folds for each of 50 candidates, totalling 250 fits\n"
     ]
    },
    {
     "name": "stderr",
     "output_type": "stream",
     "text": [
      "C:\\Users\\iukan\\anaconda3\\lib\\site-packages\\sklearn\\linear_model\\_coordinate_descent.py:530: ConvergenceWarning: Objective did not converge. You might want to increase the number of iterations. Duality gap: 16330153.94094816, tolerance: 499012.50581192353\n",
      "  model = cd_fast.enet_coordinate_descent(\n"
     ]
    },
    {
     "data": {
      "text/plain": [
       "RandomizedSearchCV(cv=5, estimator=ElasticNet(), n_iter=50, n_jobs=-1,\n",
       "                   param_distributions={'alpha': [0.0001, 0.001, 0.01, 0.1,\n",
       "                                                  0.25, 0.5, 0.75, 0.95, 1],\n",
       "                                        'fit_intercept': [True, False],\n",
       "                                        'l1_ratio': [0, 0.1, 0.25, 0.5, 0.75,\n",
       "                                                     0.9, 1],\n",
       "                                        'max_iter': [100.0]},\n",
       "                   scoring='neg_mean_absolute_error', verbose=2)"
      ]
     },
     "execution_count": 39,
     "metadata": {},
     "output_type": "execute_result"
    }
   ],
   "source": [
    "# Escalar datos\n",
    "X_train_transform=scaler.fit_transform(X_train)\n",
    "X_test_transform=scaler.transform(X_test)\n",
    "\n",
    "# Instanciar el modelo\n",
    "\n",
    "Elastic=ElasticNet()\n",
    "\n",
    "# Grid del modelo\n",
    "\n",
    "Elastic_params={'alpha':[0.0001,0.001,0.01,0.1,0.25,0.5,0.75,0.95,1],\n",
    "            'l1_ratio':[0,0.1,0.25,0.5,0.75,0.9,1],\n",
    "            'fit_intercept':[True,False],\n",
    "            'max_iter':[100.000]}\n",
    "\n",
    "# Randomized grid\n",
    "\n",
    "Random_elastic=RandomizedSearchCV(Elastic,\n",
    "                                  Elastic_params,\n",
    "                                  n_iter=10,\n",
    "                                  scoring='neg_mean_absolute_error',\n",
    "                                  n_jobs=-1,\n",
    "                                  cv=5,\n",
    "                                  verbose=2)\n",
    "\n",
    "# Ajustando\n",
    "\n",
    "Random_elastic.fit(X_train_transform,y_train)\n"
   ]
  },
  {
   "cell_type": "code",
   "execution_count": 40,
   "id": "skilled-senegal",
   "metadata": {},
   "outputs": [
    {
     "data": {
      "text/plain": [
       "-2.89217326249347"
      ]
     },
     "execution_count": 40,
     "metadata": {},
     "output_type": "execute_result"
    }
   ],
   "source": [
    "Random_elastic.best_score_"
   ]
  },
  {
   "cell_type": "code",
   "execution_count": 41,
   "id": "electric-scholar",
   "metadata": {},
   "outputs": [
    {
     "data": {
      "text/plain": [
       "ElasticNet(alpha=0.0001, l1_ratio=1, max_iter=100.0)"
      ]
     },
     "execution_count": 41,
     "metadata": {},
     "output_type": "execute_result"
    }
   ],
   "source": [
    "Random_elastic.best_estimator_"
   ]
  },
  {
   "cell_type": "code",
   "execution_count": 42,
   "id": "bulgarian-workshop",
   "metadata": {},
   "outputs": [
    {
     "data": {
      "text/plain": [
       "['Random_elastic.joblib']"
      ]
     },
     "execution_count": 42,
     "metadata": {},
     "output_type": "execute_result"
    }
   ],
   "source": [
    "# Saving random elasticNet model\n",
    "dump(Random_elastic.best_estimator_,'Random_elastic.joblib')"
   ]
  },
  {
   "cell_type": "markdown",
   "id": "personalized-shame",
   "metadata": {},
   "source": [
    "**Importancia de las variables en el modelo regresion lineal**"
   ]
  },
  {
   "cell_type": "code",
   "execution_count": 43,
   "id": "square-steel",
   "metadata": {},
   "outputs": [],
   "source": [
    "importancia=linearReg.coef_\n",
    "#for i,v in enumerate(importancia):\n",
    "#    print('Variable %d - puntuación %.3f' %(i,v))"
   ]
  },
  {
   "cell_type": "code",
   "execution_count": 44,
   "id": "foster-order",
   "metadata": {},
   "outputs": [
    {
     "data": {
      "image/png": "[encoded data removed]",
      "text/plain": [
       "<Figure size 864x432 with 1 Axes>"
      ]
     },
     "metadata": {
      "needs_background": "light"
     },
     "output_type": "display_data"
    }
   ],
   "source": [
    "plt.subplots(figsize=(12,6))\n",
    "plt.bar([x for x in range(len(importancia))],importancia)\n",
    "plt.show();"
   ]
  },
  {
   "cell_type": "markdown",
   "id": "loved-detective",
   "metadata": {},
   "source": [
    "**Importancia modelo elastic net**"
   ]
  },
  {
   "cell_type": "code",
   "execution_count": 45,
   "id": "silver-increase",
   "metadata": {},
   "outputs": [],
   "source": [
    "importancia_elastic=Random_elastic.best_estimator_.coef_\n",
    "#for i,v in enumerate(importancia_elastic):\n",
    "#    print('Variable %d - Importancia: %.3f'%(i,v))"
   ]
  },
  {
   "cell_type": "code",
   "execution_count": 46,
   "id": "graphic-trout",
   "metadata": {},
   "outputs": [
    {
     "data": {
      "image/png": "[encoded data removed]",
      "text/plain": [
       "<Figure size 864x432 with 1 Axes>"
      ]
     },
     "metadata": {
      "needs_background": "light"
     },
     "output_type": "display_data"
    }
   ],
   "source": [
    "plt.subplots(figsize=(12,6))\n",
    "plt.bar([x for x in range(len(importancia_elastic))],importancia_elastic)\n",
    "plt.show();"
   ]
  },
  {
   "cell_type": "markdown",
   "id": "regular-router",
   "metadata": {},
   "source": [
    "**Importancia variables en Random forest**"
   ]
  },
  {
   "cell_type": "code",
   "execution_count": 47,
   "id": "infectious-drill",
   "metadata": {},
   "outputs": [],
   "source": [
    "importancia_random_forest=rf.feature_importances_\n",
    "#for i,v in enumerate(importancia_random_forest):\n",
    "#    print('Variable %d - Importancia: %.5f'%(i,v))"
   ]
  },
  {
   "cell_type": "code",
   "execution_count": 48,
   "id": "pressing-cancer",
   "metadata": {},
   "outputs": [
    {
     "data": {
      "image/png": "[encoded data removed]",
      "text/plain": [
       "<Figure size 864x432 with 1 Axes>"
      ]
     },
     "metadata": {
      "needs_background": "light"
     },
     "output_type": "display_data"
    }
   ],
   "source": [
    "plt.subplots(figsize=(12,6))\n",
    "plt.bar([x for x in range(len(importancia_random_forest))],importancia_random_forest)\n",
    "plt.show();"
   ]
  },
  {
   "cell_type": "code",
   "execution_count": 49,
   "id": "industrial-professor",
   "metadata": {},
   "outputs": [],
   "source": [
    "# Permutation"
   ]
  },
  {
   "cell_type": "code",
   "execution_count": 50,
   "id": "emerging-formula",
   "metadata": {},
   "outputs": [
    {
     "name": "stderr",
     "output_type": "stream",
     "text": [
      "[Parallel(n_jobs=8)]: Using backend ThreadingBackend with 8 concurrent workers.\n",
      "[Parallel(n_jobs=8)]: Done  25 tasks      | elapsed:    6.8s\n",
      "[Parallel(n_jobs=8)]: Done 100 out of 100 | elapsed:   22.0s finished\n",
      "[Parallel(n_jobs=8)]: Using backend ThreadingBackend with 8 concurrent workers.\n",
      "[Parallel(n_jobs=8)]: Done  25 tasks      | elapsed:    6.7s\n",
      "[Parallel(n_jobs=8)]: Done 100 out of 100 | elapsed:   23.0s finished\n",
      "[Parallel(n_jobs=8)]: Using backend ThreadingBackend with 8 concurrent workers.\n",
      "[Parallel(n_jobs=8)]: Done  25 tasks      | elapsed:    6.9s\n",
      "[Parallel(n_jobs=8)]: Done 100 out of 100 | elapsed:   23.1s finished\n",
      "[Parallel(n_jobs=8)]: Using backend ThreadingBackend with 8 concurrent workers.\n",
      "[Parallel(n_jobs=8)]: Done  25 tasks      | elapsed:    7.1s\n",
      "[Parallel(n_jobs=8)]: Done 100 out of 100 | elapsed:   22.3s finished\n",
      "[Parallel(n_jobs=8)]: Using backend ThreadingBackend with 8 concurrent workers.\n",
      "[Parallel(n_jobs=8)]: Done  25 tasks      | elapsed:    6.6s\n",
      "[Parallel(n_jobs=8)]: Done 100 out of 100 | elapsed:   21.7s finished\n",
      "[Parallel(n_jobs=8)]: Using backend ThreadingBackend with 8 concurrent workers.\n",
      "[Parallel(n_jobs=8)]: Done  25 tasks      | elapsed:    7.4s\n",
      "[Parallel(n_jobs=8)]: Done 100 out of 100 | elapsed:   27.0s finished\n",
      "[Parallel(n_jobs=8)]: Using backend ThreadingBackend with 8 concurrent workers.\n",
      "[Parallel(n_jobs=8)]: Done  25 tasks      | elapsed:    7.0s\n",
      "[Parallel(n_jobs=8)]: Done 100 out of 100 | elapsed:   23.5s finished\n",
      "[Parallel(n_jobs=8)]: Using backend ThreadingBackend with 8 concurrent workers.\n",
      "[Parallel(n_jobs=8)]: Done  25 tasks      | elapsed:    6.9s\n",
      "[Parallel(n_jobs=8)]: Done 100 out of 100 | elapsed:   23.1s finished\n",
      "[Parallel(n_jobs=8)]: Using backend ThreadingBackend with 8 concurrent workers.\n",
      "[Parallel(n_jobs=8)]: Done  25 tasks      | elapsed:    7.9s\n",
      "[Parallel(n_jobs=8)]: Done 100 out of 100 | elapsed:   25.7s finished\n",
      "[Parallel(n_jobs=8)]: Using backend ThreadingBackend with 8 concurrent workers.\n",
      "[Parallel(n_jobs=8)]: Done  25 tasks      | elapsed:    7.9s\n",
      "[Parallel(n_jobs=8)]: Done 100 out of 100 | elapsed:   23.7s finished\n",
      "[Parallel(n_jobs=8)]: Using backend ThreadingBackend with 8 concurrent workers.\n",
      "[Parallel(n_jobs=8)]: Done  25 tasks      | elapsed:    7.3s\n",
      "[Parallel(n_jobs=8)]: Done 100 out of 100 | elapsed:   24.8s finished\n",
      "[Parallel(n_jobs=8)]: Using backend ThreadingBackend with 8 concurrent workers.\n",
      "[Parallel(n_jobs=8)]: Done  25 tasks      | elapsed:    7.3s\n",
      "[Parallel(n_jobs=8)]: Done 100 out of 100 | elapsed:   23.3s finished\n",
      "[Parallel(n_jobs=8)]: Using backend ThreadingBackend with 8 concurrent workers.\n",
      "[Parallel(n_jobs=8)]: Done  25 tasks      | elapsed:    6.7s\n",
      "[Parallel(n_jobs=8)]: Done 100 out of 100 | elapsed:   23.6s finished\n",
      "[Parallel(n_jobs=8)]: Using backend ThreadingBackend with 8 concurrent workers.\n",
      "[Parallel(n_jobs=8)]: Done  25 tasks      | elapsed:    6.6s\n",
      "[Parallel(n_jobs=8)]: Done 100 out of 100 | elapsed:   21.5s finished\n",
      "[Parallel(n_jobs=8)]: Using backend ThreadingBackend with 8 concurrent workers.\n",
      "[Parallel(n_jobs=8)]: Done  25 tasks      | elapsed:    6.4s\n",
      "[Parallel(n_jobs=8)]: Done 100 out of 100 | elapsed:   21.4s finished\n",
      "[Parallel(n_jobs=8)]: Using backend ThreadingBackend with 8 concurrent workers.\n",
      "[Parallel(n_jobs=8)]: Done  25 tasks      | elapsed:    6.9s\n",
      "[Parallel(n_jobs=8)]: Done 100 out of 100 | elapsed:   24.5s finished\n",
      "[Parallel(n_jobs=8)]: Using backend ThreadingBackend with 8 concurrent workers.\n",
      "[Parallel(n_jobs=8)]: Done  25 tasks      | elapsed:    7.1s\n",
      "[Parallel(n_jobs=8)]: Done 100 out of 100 | elapsed:   24.0s finished\n",
      "[Parallel(n_jobs=8)]: Using backend ThreadingBackend with 8 concurrent workers.\n",
      "[Parallel(n_jobs=8)]: Done  25 tasks      | elapsed:    7.4s\n",
      "[Parallel(n_jobs=8)]: Done 100 out of 100 | elapsed:   25.3s finished\n",
      "[Parallel(n_jobs=8)]: Using backend ThreadingBackend with 8 concurrent workers.\n",
      "[Parallel(n_jobs=8)]: Done  25 tasks      | elapsed:    6.4s\n",
      "[Parallel(n_jobs=8)]: Done 100 out of 100 | elapsed:   21.2s finished\n",
      "[Parallel(n_jobs=8)]: Using backend ThreadingBackend with 8 concurrent workers.\n",
      "[Parallel(n_jobs=8)]: Done  25 tasks      | elapsed:    6.6s\n",
      "[Parallel(n_jobs=8)]: Done 100 out of 100 | elapsed:   21.5s finished\n",
      "[Parallel(n_jobs=8)]: Using backend ThreadingBackend with 8 concurrent workers.\n",
      "[Parallel(n_jobs=8)]: Done  25 tasks      | elapsed:    6.7s\n",
      "[Parallel(n_jobs=8)]: Done 100 out of 100 | elapsed:   22.0s finished\n",
      "[Parallel(n_jobs=8)]: Using backend ThreadingBackend with 8 concurrent workers.\n",
      "[Parallel(n_jobs=8)]: Done  25 tasks      | elapsed:    4.7s\n",
      "[Parallel(n_jobs=8)]: Done 100 out of 100 | elapsed:   15.7s finished\n",
      "[Parallel(n_jobs=8)]: Using backend ThreadingBackend with 8 concurrent workers.\n",
      "[Parallel(n_jobs=8)]: Done  25 tasks      | elapsed:    4.0s\n",
      "[Parallel(n_jobs=8)]: Done 100 out of 100 | elapsed:   13.9s finished\n",
      "[Parallel(n_jobs=8)]: Using backend ThreadingBackend with 8 concurrent workers.\n",
      "[Parallel(n_jobs=8)]: Done  25 tasks      | elapsed:    4.5s\n",
      "[Parallel(n_jobs=8)]: Done 100 out of 100 | elapsed:   15.2s finished\n",
      "[Parallel(n_jobs=8)]: Using backend ThreadingBackend with 8 concurrent workers.\n",
      "[Parallel(n_jobs=8)]: Done  25 tasks      | elapsed:    4.7s\n",
      "[Parallel(n_jobs=8)]: Done 100 out of 100 | elapsed:   15.4s finished\n",
      "[Parallel(n_jobs=8)]: Using backend ThreadingBackend with 8 concurrent workers.\n",
      "[Parallel(n_jobs=8)]: Done  25 tasks      | elapsed:    4.6s\n",
      "[Parallel(n_jobs=8)]: Done 100 out of 100 | elapsed:   14.3s finished\n",
      "[Parallel(n_jobs=8)]: Using backend ThreadingBackend with 8 concurrent workers.\n",
      "[Parallel(n_jobs=8)]: Done  25 tasks      | elapsed:    4.5s\n",
      "[Parallel(n_jobs=8)]: Done 100 out of 100 | elapsed:   15.4s finished\n",
      "[Parallel(n_jobs=8)]: Using backend ThreadingBackend with 8 concurrent workers.\n",
      "[Parallel(n_jobs=8)]: Done  25 tasks      | elapsed:    4.9s\n",
      "[Parallel(n_jobs=8)]: Done 100 out of 100 | elapsed:   16.1s finished\n",
      "[Parallel(n_jobs=8)]: Using backend ThreadingBackend with 8 concurrent workers.\n",
      "[Parallel(n_jobs=8)]: Done  25 tasks      | elapsed:    5.3s\n",
      "[Parallel(n_jobs=8)]: Done 100 out of 100 | elapsed:   17.1s finished\n",
      "[Parallel(n_jobs=8)]: Using backend ThreadingBackend with 8 concurrent workers.\n",
      "[Parallel(n_jobs=8)]: Done  25 tasks      | elapsed:    4.6s\n",
      "[Parallel(n_jobs=8)]: Done 100 out of 100 | elapsed:   15.2s finished\n",
      "[Parallel(n_jobs=8)]: Using backend ThreadingBackend with 8 concurrent workers.\n",
      "[Parallel(n_jobs=8)]: Done  25 tasks      | elapsed:    5.0s\n",
      "[Parallel(n_jobs=8)]: Done 100 out of 100 | elapsed:   16.0s finished\n",
      "[Parallel(n_jobs=8)]: Using backend ThreadingBackend with 8 concurrent workers.\n",
      "[Parallel(n_jobs=8)]: Done  25 tasks      | elapsed:    6.4s\n",
      "[Parallel(n_jobs=8)]: Done 100 out of 100 | elapsed:   21.3s finished\n",
      "[Parallel(n_jobs=8)]: Using backend ThreadingBackend with 8 concurrent workers.\n",
      "[Parallel(n_jobs=8)]: Done  25 tasks      | elapsed:    6.7s\n",
      "[Parallel(n_jobs=8)]: Done 100 out of 100 | elapsed:   22.7s finished\n",
      "[Parallel(n_jobs=8)]: Using backend ThreadingBackend with 8 concurrent workers.\n",
      "[Parallel(n_jobs=8)]: Done  25 tasks      | elapsed:    6.4s\n",
      "[Parallel(n_jobs=8)]: Done 100 out of 100 | elapsed:   21.2s finished\n",
      "[Parallel(n_jobs=8)]: Using backend ThreadingBackend with 8 concurrent workers.\n",
      "[Parallel(n_jobs=8)]: Done  25 tasks      | elapsed:    6.4s\n",
      "[Parallel(n_jobs=8)]: Done 100 out of 100 | elapsed:   21.4s finished\n",
      "[Parallel(n_jobs=8)]: Using backend ThreadingBackend with 8 concurrent workers.\n",
      "[Parallel(n_jobs=8)]: Done  25 tasks      | elapsed:    6.2s\n",
      "[Parallel(n_jobs=8)]: Done 100 out of 100 | elapsed:   21.2s finished\n",
      "[Parallel(n_jobs=8)]: Using backend ThreadingBackend with 8 concurrent workers.\n",
      "[Parallel(n_jobs=8)]: Done  25 tasks      | elapsed:    6.2s\n",
      "[Parallel(n_jobs=8)]: Done 100 out of 100 | elapsed:   20.4s finished\n",
      "[Parallel(n_jobs=8)]: Using backend ThreadingBackend with 8 concurrent workers.\n",
      "[Parallel(n_jobs=8)]: Done  25 tasks      | elapsed:    6.2s\n",
      "[Parallel(n_jobs=8)]: Done 100 out of 100 | elapsed:   20.4s finished\n",
      "[Parallel(n_jobs=8)]: Using backend ThreadingBackend with 8 concurrent workers.\n",
      "[Parallel(n_jobs=8)]: Done  25 tasks      | elapsed:    6.2s\n",
      "[Parallel(n_jobs=8)]: Done 100 out of 100 | elapsed:   21.2s finished\n"
     ]
    },
    {
     "name": "stderr",
     "output_type": "stream",
     "text": [
      "[Parallel(n_jobs=8)]: Using backend ThreadingBackend with 8 concurrent workers.\n",
      "[Parallel(n_jobs=8)]: Done  25 tasks      | elapsed:    6.3s\n",
      "[Parallel(n_jobs=8)]: Done 100 out of 100 | elapsed:   20.5s finished\n",
      "[Parallel(n_jobs=8)]: Using backend ThreadingBackend with 8 concurrent workers.\n",
      "[Parallel(n_jobs=8)]: Done  25 tasks      | elapsed:    6.2s\n",
      "[Parallel(n_jobs=8)]: Done 100 out of 100 | elapsed:   20.3s finished\n",
      "[Parallel(n_jobs=8)]: Using backend ThreadingBackend with 8 concurrent workers.\n",
      "[Parallel(n_jobs=8)]: Done  25 tasks      | elapsed:    6.3s\n",
      "[Parallel(n_jobs=8)]: Done 100 out of 100 | elapsed:   20.7s finished\n",
      "[Parallel(n_jobs=8)]: Using backend ThreadingBackend with 8 concurrent workers.\n",
      "[Parallel(n_jobs=8)]: Done  25 tasks      | elapsed:    6.4s\n",
      "[Parallel(n_jobs=8)]: Done 100 out of 100 | elapsed:   21.3s finished\n",
      "[Parallel(n_jobs=8)]: Using backend ThreadingBackend with 8 concurrent workers.\n",
      "[Parallel(n_jobs=8)]: Done  25 tasks      | elapsed:    6.7s\n",
      "[Parallel(n_jobs=8)]: Done 100 out of 100 | elapsed:   21.4s finished\n",
      "[Parallel(n_jobs=8)]: Using backend ThreadingBackend with 8 concurrent workers.\n",
      "[Parallel(n_jobs=8)]: Done  25 tasks      | elapsed:    6.4s\n",
      "[Parallel(n_jobs=8)]: Done 100 out of 100 | elapsed:   20.8s finished\n",
      "[Parallel(n_jobs=8)]: Using backend ThreadingBackend with 8 concurrent workers.\n",
      "[Parallel(n_jobs=8)]: Done  25 tasks      | elapsed:    6.3s\n",
      "[Parallel(n_jobs=8)]: Done 100 out of 100 | elapsed:   20.9s finished\n",
      "[Parallel(n_jobs=8)]: Using backend ThreadingBackend with 8 concurrent workers.\n",
      "[Parallel(n_jobs=8)]: Done  25 tasks      | elapsed:    6.5s\n",
      "[Parallel(n_jobs=8)]: Done 100 out of 100 | elapsed:   21.1s finished\n",
      "[Parallel(n_jobs=8)]: Using backend ThreadingBackend with 8 concurrent workers.\n",
      "[Parallel(n_jobs=8)]: Done  25 tasks      | elapsed:    6.5s\n",
      "[Parallel(n_jobs=8)]: Done 100 out of 100 | elapsed:   21.2s finished\n",
      "[Parallel(n_jobs=8)]: Using backend ThreadingBackend with 8 concurrent workers.\n",
      "[Parallel(n_jobs=8)]: Done  25 tasks      | elapsed:    6.4s\n",
      "[Parallel(n_jobs=8)]: Done 100 out of 100 | elapsed:   21.3s finished\n",
      "[Parallel(n_jobs=8)]: Using backend ThreadingBackend with 8 concurrent workers.\n",
      "[Parallel(n_jobs=8)]: Done  25 tasks      | elapsed:    6.5s\n",
      "[Parallel(n_jobs=8)]: Done 100 out of 100 | elapsed:   21.1s finished\n",
      "[Parallel(n_jobs=8)]: Using backend ThreadingBackend with 8 concurrent workers.\n",
      "[Parallel(n_jobs=8)]: Done  25 tasks      | elapsed:    6.5s\n",
      "[Parallel(n_jobs=8)]: Done 100 out of 100 | elapsed:   21.1s finished\n",
      "[Parallel(n_jobs=8)]: Using backend ThreadingBackend with 8 concurrent workers.\n",
      "[Parallel(n_jobs=8)]: Done  25 tasks      | elapsed:    6.4s\n",
      "[Parallel(n_jobs=8)]: Done 100 out of 100 | elapsed:   20.9s finished\n",
      "[Parallel(n_jobs=8)]: Using backend ThreadingBackend with 8 concurrent workers.\n",
      "[Parallel(n_jobs=8)]: Done  25 tasks      | elapsed:    6.5s\n",
      "[Parallel(n_jobs=8)]: Done 100 out of 100 | elapsed:   21.0s finished\n",
      "[Parallel(n_jobs=8)]: Using backend ThreadingBackend with 8 concurrent workers.\n",
      "[Parallel(n_jobs=8)]: Done  25 tasks      | elapsed:    6.4s\n",
      "[Parallel(n_jobs=8)]: Done 100 out of 100 | elapsed:   20.9s finished\n",
      "[Parallel(n_jobs=8)]: Using backend ThreadingBackend with 8 concurrent workers.\n",
      "[Parallel(n_jobs=8)]: Done  25 tasks      | elapsed:    6.3s\n",
      "[Parallel(n_jobs=8)]: Done 100 out of 100 | elapsed:   21.2s finished\n",
      "[Parallel(n_jobs=8)]: Using backend ThreadingBackend with 8 concurrent workers.\n",
      "[Parallel(n_jobs=8)]: Done  25 tasks      | elapsed:    6.4s\n",
      "[Parallel(n_jobs=8)]: Done 100 out of 100 | elapsed:   21.0s finished\n",
      "[Parallel(n_jobs=8)]: Using backend ThreadingBackend with 8 concurrent workers.\n",
      "[Parallel(n_jobs=8)]: Done  25 tasks      | elapsed:    6.7s\n",
      "[Parallel(n_jobs=8)]: Done 100 out of 100 | elapsed:   21.4s finished\n",
      "[Parallel(n_jobs=8)]: Using backend ThreadingBackend with 8 concurrent workers.\n",
      "[Parallel(n_jobs=8)]: Done  25 tasks      | elapsed:    6.5s\n",
      "[Parallel(n_jobs=8)]: Done 100 out of 100 | elapsed:   21.5s finished\n",
      "[Parallel(n_jobs=8)]: Using backend ThreadingBackend with 8 concurrent workers.\n",
      "[Parallel(n_jobs=8)]: Done  25 tasks      | elapsed:    6.5s\n",
      "[Parallel(n_jobs=8)]: Done 100 out of 100 | elapsed:   21.2s finished\n",
      "[Parallel(n_jobs=8)]: Using backend ThreadingBackend with 8 concurrent workers.\n",
      "[Parallel(n_jobs=8)]: Done  25 tasks      | elapsed:    6.6s\n",
      "[Parallel(n_jobs=8)]: Done 100 out of 100 | elapsed:   21.2s finished\n",
      "[Parallel(n_jobs=8)]: Using backend ThreadingBackend with 8 concurrent workers.\n",
      "[Parallel(n_jobs=8)]: Done  25 tasks      | elapsed:    6.5s\n",
      "[Parallel(n_jobs=8)]: Done 100 out of 100 | elapsed:   21.1s finished\n",
      "[Parallel(n_jobs=8)]: Using backend ThreadingBackend with 8 concurrent workers.\n",
      "[Parallel(n_jobs=8)]: Done  25 tasks      | elapsed:    6.4s\n",
      "[Parallel(n_jobs=8)]: Done 100 out of 100 | elapsed:   20.7s finished\n",
      "[Parallel(n_jobs=8)]: Using backend ThreadingBackend with 8 concurrent workers.\n",
      "[Parallel(n_jobs=8)]: Done  25 tasks      | elapsed:    6.3s\n",
      "[Parallel(n_jobs=8)]: Done 100 out of 100 | elapsed:   20.8s finished\n",
      "[Parallel(n_jobs=8)]: Using backend ThreadingBackend with 8 concurrent workers.\n",
      "[Parallel(n_jobs=8)]: Done  25 tasks      | elapsed:    6.3s\n",
      "[Parallel(n_jobs=8)]: Done 100 out of 100 | elapsed:   20.8s finished\n",
      "[Parallel(n_jobs=8)]: Using backend ThreadingBackend with 8 concurrent workers.\n",
      "[Parallel(n_jobs=8)]: Done  25 tasks      | elapsed:    6.4s\n",
      "[Parallel(n_jobs=8)]: Done 100 out of 100 | elapsed:   20.8s finished\n",
      "[Parallel(n_jobs=8)]: Using backend ThreadingBackend with 8 concurrent workers.\n",
      "[Parallel(n_jobs=8)]: Done  25 tasks      | elapsed:    6.3s\n",
      "[Parallel(n_jobs=8)]: Done 100 out of 100 | elapsed:   20.8s finished\n",
      "[Parallel(n_jobs=8)]: Using backend ThreadingBackend with 8 concurrent workers.\n",
      "[Parallel(n_jobs=8)]: Done  25 tasks      | elapsed:    6.4s\n",
      "[Parallel(n_jobs=8)]: Done 100 out of 100 | elapsed:   20.8s finished\n",
      "[Parallel(n_jobs=8)]: Using backend ThreadingBackend with 8 concurrent workers.\n",
      "[Parallel(n_jobs=8)]: Done  25 tasks      | elapsed:    6.3s\n",
      "[Parallel(n_jobs=8)]: Done 100 out of 100 | elapsed:   21.0s finished\n",
      "[Parallel(n_jobs=8)]: Using backend ThreadingBackend with 8 concurrent workers.\n",
      "[Parallel(n_jobs=8)]: Done  25 tasks      | elapsed:    6.4s\n",
      "[Parallel(n_jobs=8)]: Done 100 out of 100 | elapsed:   20.9s finished\n",
      "[Parallel(n_jobs=8)]: Using backend ThreadingBackend with 8 concurrent workers.\n",
      "[Parallel(n_jobs=8)]: Done  25 tasks      | elapsed:    6.4s\n",
      "[Parallel(n_jobs=8)]: Done 100 out of 100 | elapsed:   20.9s finished\n",
      "[Parallel(n_jobs=8)]: Using backend ThreadingBackend with 8 concurrent workers.\n",
      "[Parallel(n_jobs=8)]: Done  25 tasks      | elapsed:    6.4s\n",
      "[Parallel(n_jobs=8)]: Done 100 out of 100 | elapsed:   20.8s finished\n",
      "[Parallel(n_jobs=8)]: Using backend ThreadingBackend with 8 concurrent workers.\n",
      "[Parallel(n_jobs=8)]: Done  25 tasks      | elapsed:    6.1s\n",
      "[Parallel(n_jobs=8)]: Done 100 out of 100 | elapsed:   20.1s finished\n",
      "[Parallel(n_jobs=8)]: Using backend ThreadingBackend with 8 concurrent workers.\n",
      "[Parallel(n_jobs=8)]: Done  25 tasks      | elapsed:    6.0s\n",
      "[Parallel(n_jobs=8)]: Done 100 out of 100 | elapsed:   20.1s finished\n",
      "[Parallel(n_jobs=8)]: Using backend ThreadingBackend with 8 concurrent workers.\n",
      "[Parallel(n_jobs=8)]: Done  25 tasks      | elapsed:    6.1s\n",
      "[Parallel(n_jobs=8)]: Done 100 out of 100 | elapsed:   20.2s finished\n",
      "[Parallel(n_jobs=8)]: Using backend ThreadingBackend with 8 concurrent workers.\n",
      "[Parallel(n_jobs=8)]: Done  25 tasks      | elapsed:    6.1s\n",
      "[Parallel(n_jobs=8)]: Done 100 out of 100 | elapsed:   20.1s finished\n",
      "[Parallel(n_jobs=8)]: Using backend ThreadingBackend with 8 concurrent workers.\n",
      "[Parallel(n_jobs=8)]: Done  25 tasks      | elapsed:    6.0s\n",
      "[Parallel(n_jobs=8)]: Done 100 out of 100 | elapsed:   20.1s finished\n",
      "[Parallel(n_jobs=8)]: Using backend ThreadingBackend with 8 concurrent workers.\n",
      "[Parallel(n_jobs=8)]: Done  25 tasks      | elapsed:    6.4s\n",
      "[Parallel(n_jobs=8)]: Done 100 out of 100 | elapsed:   21.1s finished\n",
      "[Parallel(n_jobs=8)]: Using backend ThreadingBackend with 8 concurrent workers.\n",
      "[Parallel(n_jobs=8)]: Done  25 tasks      | elapsed:    6.4s\n",
      "[Parallel(n_jobs=8)]: Done 100 out of 100 | elapsed:   21.0s finished\n"
     ]
    },
    {
     "name": "stderr",
     "output_type": "stream",
     "text": [
      "[Parallel(n_jobs=8)]: Using backend ThreadingBackend with 8 concurrent workers.\n",
      "[Parallel(n_jobs=8)]: Done  25 tasks      | elapsed:    6.4s\n",
      "[Parallel(n_jobs=8)]: Done 100 out of 100 | elapsed:   21.2s finished\n",
      "[Parallel(n_jobs=8)]: Using backend ThreadingBackend with 8 concurrent workers.\n",
      "[Parallel(n_jobs=8)]: Done  25 tasks      | elapsed:    6.4s\n",
      "[Parallel(n_jobs=8)]: Done 100 out of 100 | elapsed:   21.1s finished\n",
      "[Parallel(n_jobs=8)]: Using backend ThreadingBackend with 8 concurrent workers.\n",
      "[Parallel(n_jobs=8)]: Done  25 tasks      | elapsed:    6.5s\n",
      "[Parallel(n_jobs=8)]: Done 100 out of 100 | elapsed:   21.0s finished\n",
      "[Parallel(n_jobs=8)]: Using backend ThreadingBackend with 8 concurrent workers.\n",
      "[Parallel(n_jobs=8)]: Done  25 tasks      | elapsed:    6.1s\n",
      "[Parallel(n_jobs=8)]: Done 100 out of 100 | elapsed:   19.7s finished\n",
      "[Parallel(n_jobs=8)]: Using backend ThreadingBackend with 8 concurrent workers.\n",
      "[Parallel(n_jobs=8)]: Done  25 tasks      | elapsed:    5.9s\n",
      "[Parallel(n_jobs=8)]: Done 100 out of 100 | elapsed:   19.5s finished\n",
      "[Parallel(n_jobs=8)]: Using backend ThreadingBackend with 8 concurrent workers.\n",
      "[Parallel(n_jobs=8)]: Done  25 tasks      | elapsed:    6.0s\n",
      "[Parallel(n_jobs=8)]: Done 100 out of 100 | elapsed:   19.6s finished\n",
      "[Parallel(n_jobs=8)]: Using backend ThreadingBackend with 8 concurrent workers.\n",
      "[Parallel(n_jobs=8)]: Done  25 tasks      | elapsed:    6.0s\n",
      "[Parallel(n_jobs=8)]: Done 100 out of 100 | elapsed:   19.5s finished\n",
      "[Parallel(n_jobs=8)]: Using backend ThreadingBackend with 8 concurrent workers.\n",
      "[Parallel(n_jobs=8)]: Done  25 tasks      | elapsed:    5.9s\n",
      "[Parallel(n_jobs=8)]: Done 100 out of 100 | elapsed:   19.6s finished\n",
      "[Parallel(n_jobs=8)]: Using backend ThreadingBackend with 8 concurrent workers.\n",
      "[Parallel(n_jobs=8)]: Done  25 tasks      | elapsed:    6.5s\n",
      "[Parallel(n_jobs=8)]: Done 100 out of 100 | elapsed:   21.3s finished\n",
      "[Parallel(n_jobs=8)]: Using backend ThreadingBackend with 8 concurrent workers.\n",
      "[Parallel(n_jobs=8)]: Done  25 tasks      | elapsed:    6.5s\n",
      "[Parallel(n_jobs=8)]: Done 100 out of 100 | elapsed:   21.3s finished\n",
      "[Parallel(n_jobs=8)]: Using backend ThreadingBackend with 8 concurrent workers.\n",
      "[Parallel(n_jobs=8)]: Done  25 tasks      | elapsed:    6.4s\n",
      "[Parallel(n_jobs=8)]: Done 100 out of 100 | elapsed:   21.2s finished\n",
      "[Parallel(n_jobs=8)]: Using backend ThreadingBackend with 8 concurrent workers.\n",
      "[Parallel(n_jobs=8)]: Done  25 tasks      | elapsed:    6.4s\n",
      "[Parallel(n_jobs=8)]: Done 100 out of 100 | elapsed:   21.3s finished\n",
      "[Parallel(n_jobs=8)]: Using backend ThreadingBackend with 8 concurrent workers.\n",
      "[Parallel(n_jobs=8)]: Done  25 tasks      | elapsed:    6.5s\n",
      "[Parallel(n_jobs=8)]: Done 100 out of 100 | elapsed:   21.2s finished\n",
      "[Parallel(n_jobs=8)]: Using backend ThreadingBackend with 8 concurrent workers.\n",
      "[Parallel(n_jobs=8)]: Done  25 tasks      | elapsed:    5.9s\n",
      "[Parallel(n_jobs=8)]: Done 100 out of 100 | elapsed:   19.6s finished\n",
      "[Parallel(n_jobs=8)]: Using backend ThreadingBackend with 8 concurrent workers.\n",
      "[Parallel(n_jobs=8)]: Done  25 tasks      | elapsed:    6.0s\n",
      "[Parallel(n_jobs=8)]: Done 100 out of 100 | elapsed:   19.7s finished\n",
      "[Parallel(n_jobs=8)]: Using backend ThreadingBackend with 8 concurrent workers.\n",
      "[Parallel(n_jobs=8)]: Done  25 tasks      | elapsed:    6.0s\n",
      "[Parallel(n_jobs=8)]: Done 100 out of 100 | elapsed:   19.7s finished\n",
      "[Parallel(n_jobs=8)]: Using backend ThreadingBackend with 8 concurrent workers.\n",
      "[Parallel(n_jobs=8)]: Done  25 tasks      | elapsed:    6.1s\n",
      "[Parallel(n_jobs=8)]: Done 100 out of 100 | elapsed:   19.7s finished\n",
      "[Parallel(n_jobs=8)]: Using backend ThreadingBackend with 8 concurrent workers.\n",
      "[Parallel(n_jobs=8)]: Done  25 tasks      | elapsed:    5.9s\n",
      "[Parallel(n_jobs=8)]: Done 100 out of 100 | elapsed:   19.6s finished\n",
      "[Parallel(n_jobs=8)]: Using backend ThreadingBackend with 8 concurrent workers.\n",
      "[Parallel(n_jobs=8)]: Done  25 tasks      | elapsed:    6.4s\n",
      "[Parallel(n_jobs=8)]: Done 100 out of 100 | elapsed:   21.2s finished\n",
      "[Parallel(n_jobs=8)]: Using backend ThreadingBackend with 8 concurrent workers.\n",
      "[Parallel(n_jobs=8)]: Done  25 tasks      | elapsed:    6.4s\n",
      "[Parallel(n_jobs=8)]: Done 100 out of 100 | elapsed:   21.0s finished\n",
      "[Parallel(n_jobs=8)]: Using backend ThreadingBackend with 8 concurrent workers.\n",
      "[Parallel(n_jobs=8)]: Done  25 tasks      | elapsed:    6.4s\n",
      "[Parallel(n_jobs=8)]: Done 100 out of 100 | elapsed:   21.2s finished\n",
      "[Parallel(n_jobs=8)]: Using backend ThreadingBackend with 8 concurrent workers.\n",
      "[Parallel(n_jobs=8)]: Done  25 tasks      | elapsed:    6.4s\n",
      "[Parallel(n_jobs=8)]: Done 100 out of 100 | elapsed:   20.9s finished\n",
      "[Parallel(n_jobs=8)]: Using backend ThreadingBackend with 8 concurrent workers.\n",
      "[Parallel(n_jobs=8)]: Done  25 tasks      | elapsed:    6.4s\n",
      "[Parallel(n_jobs=8)]: Done 100 out of 100 | elapsed:   21.0s finished\n"
     ]
    }
   ],
   "source": [
    "resultados=permutation_importance(rf,\n",
    "                                  X_train,\n",
    "                                  y_train,\n",
    "                                  scoring='neg_mean_absolute_error')"
   ]
  },
  {
   "cell_type": "code",
   "execution_count": 51,
   "id": "contained-arctic",
   "metadata": {},
   "outputs": [],
   "source": [
    "# Saving importance randon forest model\n",
    "dump(resultados,'importance_rf.joblib')\n",
    "\n",
    "importancia_rf = resultados.importances_mean\n",
    "\n",
    "\n",
    "#for i,v in enumerate(importancia_rf):\n",
    "#    print('Variable: %0d - Importancia: %.5f' % (i,v))\n",
    "\n"
   ]
  },
  {
   "cell_type": "code",
   "execution_count": 52,
   "id": "ahead-roman",
   "metadata": {},
   "outputs": [
    {
     "data": {
      "image/png": "[encoded data removed]",
      "text/plain": [
       "<Figure size 864x432 with 1 Axes>"
      ]
     },
     "metadata": {
      "needs_background": "light"
     },
     "output_type": "display_data"
    }
   ],
   "source": [
    "plt.subplots(figsize=(12,6))\n",
    "plt.bar([x for x in range(len(importancia_rf))], importancia_rf)\n",
    "plt.show()"
   ]
  },
  {
   "cell_type": "markdown",
   "id": "sapphire-filing",
   "metadata": {},
   "source": [
    "Como podemos ver, cada modelo da diferente importancia a cada variable."
   ]
  },
  {
   "cell_type": "markdown",
   "id": "yellow-maine",
   "metadata": {},
   "source": [
    "## Nivell 2\n",
    "\n",
    "\n",
    "\n",
    "\n",
    "### Exercici 5\n",
    "Realitza algun procés d’enginyeria de variables per millorar-ne la predicció\n",
    "\n"
   ]
  },
  {
   "cell_type": "markdown",
   "id": "three-crest",
   "metadata": {},
   "source": [
    "En este apartado vamos a utilizar una estrategia diferente para codificar las variables categóricas. En el apartado anterior utilizabamos OrdinalEncoder para asignar valores numéricos a los destinos y los orígenes, como habíamos visto son variables que tenían un gran número de categorías y no hay una relación de orden entre ellas. "
   ]
  },
  {
   "cell_type": "code",
   "execution_count": 53,
   "id": "sustained-johnston",
   "metadata": {},
   "outputs": [
    {
     "data": {
      "text/html": [
       "<div>\n",
       "<style scoped>\n",
       "    .dataframe tbody tr th:only-of-type {\n",
       "        vertical-align: middle;\n",
       "    }\n",
       "\n",
       "    .dataframe tbody tr th {\n",
       "        vertical-align: top;\n",
       "    }\n",
       "\n",
       "    .dataframe thead th {\n",
       "        text-align: right;\n",
       "    }\n",
       "</style>\n",
       "<table border=\"1\" class=\"dataframe\">\n",
       "  <thead>\n",
       "    <tr style=\"text-align: right;\">\n",
       "      <th></th>\n",
       "      <th>DayOfYear</th>\n",
       "      <th>Month</th>\n",
       "      <th>Day</th>\n",
       "      <th>DayOfWeek</th>\n",
       "      <th>Hour</th>\n",
       "      <th>Status</th>\n",
       "      <th>ArrDelay</th>\n",
       "      <th>DepDelay</th>\n",
       "      <th>TaxiIn</th>\n",
       "      <th>TaxiOut</th>\n",
       "      <th>...</th>\n",
       "      <th>Dest</th>\n",
       "      <th>Distance</th>\n",
       "      <th>Skyway</th>\n",
       "      <th>CarrierDelay</th>\n",
       "      <th>WeatherDelay</th>\n",
       "      <th>NASDelay</th>\n",
       "      <th>SecurityDelay</th>\n",
       "      <th>LateAircraftDelay</th>\n",
       "      <th>flights_hour</th>\n",
       "      <th>flights_day</th>\n",
       "    </tr>\n",
       "  </thead>\n",
       "  <tbody>\n",
       "    <tr>\n",
       "      <th>0</th>\n",
       "      <td>3</td>\n",
       "      <td>1</td>\n",
       "      <td>3</td>\n",
       "      <td>4</td>\n",
       "      <td>19</td>\n",
       "      <td>On time</td>\n",
       "      <td>-14.0</td>\n",
       "      <td>8.0</td>\n",
       "      <td>4.0</td>\n",
       "      <td>8.0</td>\n",
       "      <td>...</td>\n",
       "      <td>TPA</td>\n",
       "      <td>810</td>\n",
       "      <td>IAD-TPA</td>\n",
       "      <td>0.0</td>\n",
       "      <td>0.0</td>\n",
       "      <td>0.0</td>\n",
       "      <td>0.0</td>\n",
       "      <td>0.0</td>\n",
       "      <td>6</td>\n",
       "      <td>95</td>\n",
       "    </tr>\n",
       "    <tr>\n",
       "      <th>1</th>\n",
       "      <td>3</td>\n",
       "      <td>1</td>\n",
       "      <td>3</td>\n",
       "      <td>4</td>\n",
       "      <td>7</td>\n",
       "      <td>On time</td>\n",
       "      <td>2.0</td>\n",
       "      <td>19.0</td>\n",
       "      <td>5.0</td>\n",
       "      <td>10.0</td>\n",
       "      <td>...</td>\n",
       "      <td>TPA</td>\n",
       "      <td>810</td>\n",
       "      <td>IAD-TPA</td>\n",
       "      <td>0.0</td>\n",
       "      <td>0.0</td>\n",
       "      <td>0.0</td>\n",
       "      <td>0.0</td>\n",
       "      <td>0.0</td>\n",
       "      <td>9</td>\n",
       "      <td>95</td>\n",
       "    </tr>\n",
       "    <tr>\n",
       "      <th>2</th>\n",
       "      <td>3</td>\n",
       "      <td>1</td>\n",
       "      <td>3</td>\n",
       "      <td>4</td>\n",
       "      <td>6</td>\n",
       "      <td>On time</td>\n",
       "      <td>14.0</td>\n",
       "      <td>8.0</td>\n",
       "      <td>3.0</td>\n",
       "      <td>17.0</td>\n",
       "      <td>...</td>\n",
       "      <td>BWI</td>\n",
       "      <td>515</td>\n",
       "      <td>IND-BWI</td>\n",
       "      <td>0.0</td>\n",
       "      <td>0.0</td>\n",
       "      <td>0.0</td>\n",
       "      <td>0.0</td>\n",
       "      <td>0.0</td>\n",
       "      <td>2</td>\n",
       "      <td>39</td>\n",
       "    </tr>\n",
       "    <tr>\n",
       "      <th>3</th>\n",
       "      <td>3</td>\n",
       "      <td>1</td>\n",
       "      <td>3</td>\n",
       "      <td>4</td>\n",
       "      <td>17</td>\n",
       "      <td>Delayed</td>\n",
       "      <td>34.0</td>\n",
       "      <td>34.0</td>\n",
       "      <td>3.0</td>\n",
       "      <td>10.0</td>\n",
       "      <td>...</td>\n",
       "      <td>BWI</td>\n",
       "      <td>515</td>\n",
       "      <td>IND-BWI</td>\n",
       "      <td>2.0</td>\n",
       "      <td>0.0</td>\n",
       "      <td>0.0</td>\n",
       "      <td>0.0</td>\n",
       "      <td>32.0</td>\n",
       "      <td>3</td>\n",
       "      <td>39</td>\n",
       "    </tr>\n",
       "    <tr>\n",
       "      <th>4</th>\n",
       "      <td>3</td>\n",
       "      <td>1</td>\n",
       "      <td>3</td>\n",
       "      <td>4</td>\n",
       "      <td>19</td>\n",
       "      <td>On time</td>\n",
       "      <td>11.0</td>\n",
       "      <td>25.0</td>\n",
       "      <td>4.0</td>\n",
       "      <td>10.0</td>\n",
       "      <td>...</td>\n",
       "      <td>JAX</td>\n",
       "      <td>688</td>\n",
       "      <td>IND-JAX</td>\n",
       "      <td>0.0</td>\n",
       "      <td>0.0</td>\n",
       "      <td>0.0</td>\n",
       "      <td>0.0</td>\n",
       "      <td>0.0</td>\n",
       "      <td>2</td>\n",
       "      <td>39</td>\n",
       "    </tr>\n",
       "  </tbody>\n",
       "</table>\n",
       "<p>5 rows × 23 columns</p>\n",
       "</div>"
      ],
      "text/plain": [
       "   DayOfYear  Month  Day  DayOfWeek  Hour   Status  ArrDelay  DepDelay  \\\n",
       "0          3      1    3          4    19  On time     -14.0       8.0   \n",
       "1          3      1    3          4     7  On time       2.0      19.0   \n",
       "2          3      1    3          4     6  On time      14.0       8.0   \n",
       "3          3      1    3          4    17  Delayed      34.0      34.0   \n",
       "4          3      1    3          4    19  On time      11.0      25.0   \n",
       "\n",
       "   TaxiIn  TaxiOut  ... Dest  Distance   Skyway CarrierDelay  WeatherDelay  \\\n",
       "0     4.0      8.0  ...  TPA       810  IAD-TPA          0.0           0.0   \n",
       "1     5.0     10.0  ...  TPA       810  IAD-TPA          0.0           0.0   \n",
       "2     3.0     17.0  ...  BWI       515  IND-BWI          0.0           0.0   \n",
       "3     3.0     10.0  ...  BWI       515  IND-BWI          2.0           0.0   \n",
       "4     4.0     10.0  ...  JAX       688  IND-JAX          0.0           0.0   \n",
       "\n",
       "  NASDelay  SecurityDelay  LateAircraftDelay  flights_hour  flights_day  \n",
       "0      0.0            0.0                0.0             6           95  \n",
       "1      0.0            0.0                0.0             9           95  \n",
       "2      0.0            0.0                0.0             2           39  \n",
       "3      0.0            0.0               32.0             3           39  \n",
       "4      0.0            0.0                0.0             2           39  \n",
       "\n",
       "[5 rows x 23 columns]"
      ]
     },
     "execution_count": 53,
     "metadata": {},
     "output_type": "execute_result"
    }
   ],
   "source": [
    "df=pd.read_csv('vuelos_final_pre.csv')\n",
    "df.head()"
   ]
  },
  {
   "cell_type": "code",
   "execution_count": 54,
   "id": "structured-orleans",
   "metadata": {},
   "outputs": [
    {
     "name": "stdout",
     "output_type": "stream",
     "text": [
      "<class 'pandas.core.frame.DataFrame'>\n",
      "RangeIndex: 1928369 entries, 0 to 1928368\n",
      "Data columns (total 23 columns):\n",
      " #   Column             Dtype  \n",
      "---  ------             -----  \n",
      " 0   DayOfYear          int64  \n",
      " 1   Month              int64  \n",
      " 2   Day                int64  \n",
      " 3   DayOfWeek          int64  \n",
      " 4   Hour               int64  \n",
      " 5   Status             object \n",
      " 6   ArrDelay           float64\n",
      " 7   DepDelay           float64\n",
      " 8   TaxiIn             float64\n",
      " 9   TaxiOut            float64\n",
      " 10  UniqueCarrier      object \n",
      " 11  YearOfManufact     float64\n",
      " 12  Origin             object \n",
      " 13  Dest               object \n",
      " 14  Distance           int64  \n",
      " 15  Skyway             object \n",
      " 16  CarrierDelay       float64\n",
      " 17  WeatherDelay       float64\n",
      " 18  NASDelay           float64\n",
      " 19  SecurityDelay      float64\n",
      " 20  LateAircraftDelay  float64\n",
      " 21  flights_hour       int64  \n",
      " 22  flights_day        int64  \n",
      "dtypes: float64(10), int64(8), object(5)\n",
      "memory usage: 338.4+ MB\n"
     ]
    }
   ],
   "source": [
    "df.info()"
   ]
  },
  {
   "cell_type": "markdown",
   "id": "prime-centre",
   "metadata": {},
   "source": [
    "En este caso voy codificar las variables categóricas sustituyendo su valor por la frecuencia con la que aparecen. "
   ]
  },
  {
   "cell_type": "code",
   "execution_count": 55,
   "id": "undefined-graham",
   "metadata": {},
   "outputs": [],
   "source": [
    "# Label encodind for status\n",
    "#Instanciar Encoder\n",
    "#status_label=OrdinalEncoder(categories=[np.array(['On time','Delayed', 'Highly Delayed','Cancelled','Diverted'])])\n",
    "# Transforma variable\n",
    "#df.Status=status_label.fit_transform(df['Status'].values.reshape(-1,1))"
   ]
  },
  {
   "cell_type": "code",
   "execution_count": 56,
   "id": "structured-montana",
   "metadata": {},
   "outputs": [],
   "source": [
    "# Frecuency encoding\n",
    "\n",
    "categorias=df.select_dtypes(include='object').columns\n",
    "\n",
    "for cat in categorias: \n",
    "    cat_mapping=df.groupby(cat).size()/len(df)*100\n",
    "    df[cat]=df[cat].map(cat_mapping)\n"
   ]
  },
  {
   "cell_type": "code",
   "execution_count": 57,
   "id": "dimensional-pantyhose",
   "metadata": {},
   "outputs": [
    {
     "data": {
      "text/html": [
       "<div>\n",
       "<style scoped>\n",
       "    .dataframe tbody tr th:only-of-type {\n",
       "        vertical-align: middle;\n",
       "    }\n",
       "\n",
       "    .dataframe tbody tr th {\n",
       "        vertical-align: top;\n",
       "    }\n",
       "\n",
       "    .dataframe thead th {\n",
       "        text-align: right;\n",
       "    }\n",
       "</style>\n",
       "<table border=\"1\" class=\"dataframe\">\n",
       "  <thead>\n",
       "    <tr style=\"text-align: right;\">\n",
       "      <th></th>\n",
       "      <th>DayOfYear</th>\n",
       "      <th>Month</th>\n",
       "      <th>Day</th>\n",
       "      <th>DayOfWeek</th>\n",
       "      <th>Hour</th>\n",
       "      <th>Status</th>\n",
       "      <th>ArrDelay</th>\n",
       "      <th>DepDelay</th>\n",
       "      <th>TaxiIn</th>\n",
       "      <th>TaxiOut</th>\n",
       "      <th>...</th>\n",
       "      <th>Dest</th>\n",
       "      <th>Distance</th>\n",
       "      <th>Skyway</th>\n",
       "      <th>CarrierDelay</th>\n",
       "      <th>WeatherDelay</th>\n",
       "      <th>NASDelay</th>\n",
       "      <th>SecurityDelay</th>\n",
       "      <th>LateAircraftDelay</th>\n",
       "      <th>flights_hour</th>\n",
       "      <th>flights_day</th>\n",
       "    </tr>\n",
       "  </thead>\n",
       "  <tbody>\n",
       "    <tr>\n",
       "      <th>0</th>\n",
       "      <td>3</td>\n",
       "      <td>1</td>\n",
       "      <td>3</td>\n",
       "      <td>4</td>\n",
       "      <td>19</td>\n",
       "      <td>35.308751</td>\n",
       "      <td>-14.0</td>\n",
       "      <td>8.0</td>\n",
       "      <td>4.0</td>\n",
       "      <td>8.0</td>\n",
       "      <td>...</td>\n",
       "      <td>1.171197</td>\n",
       "      <td>810</td>\n",
       "      <td>0.021365</td>\n",
       "      <td>0.0</td>\n",
       "      <td>0.0</td>\n",
       "      <td>0.0</td>\n",
       "      <td>0.0</td>\n",
       "      <td>0.0</td>\n",
       "      <td>6</td>\n",
       "      <td>95</td>\n",
       "    </tr>\n",
       "    <tr>\n",
       "      <th>1</th>\n",
       "      <td>3</td>\n",
       "      <td>1</td>\n",
       "      <td>3</td>\n",
       "      <td>4</td>\n",
       "      <td>7</td>\n",
       "      <td>35.308751</td>\n",
       "      <td>2.0</td>\n",
       "      <td>19.0</td>\n",
       "      <td>5.0</td>\n",
       "      <td>10.0</td>\n",
       "      <td>...</td>\n",
       "      <td>1.171197</td>\n",
       "      <td>810</td>\n",
       "      <td>0.021365</td>\n",
       "      <td>0.0</td>\n",
       "      <td>0.0</td>\n",
       "      <td>0.0</td>\n",
       "      <td>0.0</td>\n",
       "      <td>0.0</td>\n",
       "      <td>9</td>\n",
       "      <td>95</td>\n",
       "    </tr>\n",
       "    <tr>\n",
       "      <th>2</th>\n",
       "      <td>3</td>\n",
       "      <td>1</td>\n",
       "      <td>3</td>\n",
       "      <td>4</td>\n",
       "      <td>6</td>\n",
       "      <td>35.308751</td>\n",
       "      <td>14.0</td>\n",
       "      <td>8.0</td>\n",
       "      <td>3.0</td>\n",
       "      <td>17.0</td>\n",
       "      <td>...</td>\n",
       "      <td>1.532331</td>\n",
       "      <td>515</td>\n",
       "      <td>0.012757</td>\n",
       "      <td>0.0</td>\n",
       "      <td>0.0</td>\n",
       "      <td>0.0</td>\n",
       "      <td>0.0</td>\n",
       "      <td>0.0</td>\n",
       "      <td>2</td>\n",
       "      <td>39</td>\n",
       "    </tr>\n",
       "    <tr>\n",
       "      <th>3</th>\n",
       "      <td>3</td>\n",
       "      <td>1</td>\n",
       "      <td>3</td>\n",
       "      <td>4</td>\n",
       "      <td>17</td>\n",
       "      <td>41.468101</td>\n",
       "      <td>34.0</td>\n",
       "      <td>34.0</td>\n",
       "      <td>3.0</td>\n",
       "      <td>10.0</td>\n",
       "      <td>...</td>\n",
       "      <td>1.532331</td>\n",
       "      <td>515</td>\n",
       "      <td>0.012757</td>\n",
       "      <td>2.0</td>\n",
       "      <td>0.0</td>\n",
       "      <td>0.0</td>\n",
       "      <td>0.0</td>\n",
       "      <td>32.0</td>\n",
       "      <td>3</td>\n",
       "      <td>39</td>\n",
       "    </tr>\n",
       "    <tr>\n",
       "      <th>4</th>\n",
       "      <td>3</td>\n",
       "      <td>1</td>\n",
       "      <td>3</td>\n",
       "      <td>4</td>\n",
       "      <td>19</td>\n",
       "      <td>35.308751</td>\n",
       "      <td>11.0</td>\n",
       "      <td>25.0</td>\n",
       "      <td>4.0</td>\n",
       "      <td>10.0</td>\n",
       "      <td>...</td>\n",
       "      <td>0.495393</td>\n",
       "      <td>688</td>\n",
       "      <td>0.006586</td>\n",
       "      <td>0.0</td>\n",
       "      <td>0.0</td>\n",
       "      <td>0.0</td>\n",
       "      <td>0.0</td>\n",
       "      <td>0.0</td>\n",
       "      <td>2</td>\n",
       "      <td>39</td>\n",
       "    </tr>\n",
       "  </tbody>\n",
       "</table>\n",
       "<p>5 rows × 23 columns</p>\n",
       "</div>"
      ],
      "text/plain": [
       "   DayOfYear  Month  Day  DayOfWeek  Hour     Status  ArrDelay  DepDelay  \\\n",
       "0          3      1    3          4    19  35.308751     -14.0       8.0   \n",
       "1          3      1    3          4     7  35.308751       2.0      19.0   \n",
       "2          3      1    3          4     6  35.308751      14.0       8.0   \n",
       "3          3      1    3          4    17  41.468101      34.0      34.0   \n",
       "4          3      1    3          4    19  35.308751      11.0      25.0   \n",
       "\n",
       "   TaxiIn  TaxiOut  ...      Dest  Distance    Skyway  CarrierDelay  \\\n",
       "0     4.0      8.0  ...  1.171197       810  0.021365           0.0   \n",
       "1     5.0     10.0  ...  1.171197       810  0.021365           0.0   \n",
       "2     3.0     17.0  ...  1.532331       515  0.012757           0.0   \n",
       "3     3.0     10.0  ...  1.532331       515  0.012757           2.0   \n",
       "4     4.0     10.0  ...  0.495393       688  0.006586           0.0   \n",
       "\n",
       "   WeatherDelay  NASDelay  SecurityDelay  LateAircraftDelay  flights_hour  \\\n",
       "0           0.0       0.0            0.0                0.0             6   \n",
       "1           0.0       0.0            0.0                0.0             9   \n",
       "2           0.0       0.0            0.0                0.0             2   \n",
       "3           0.0       0.0            0.0               32.0             3   \n",
       "4           0.0       0.0            0.0                0.0             2   \n",
       "\n",
       "   flights_day  \n",
       "0           95  \n",
       "1           95  \n",
       "2           39  \n",
       "3           39  \n",
       "4           39  \n",
       "\n",
       "[5 rows x 23 columns]"
      ]
     },
     "execution_count": 57,
     "metadata": {},
     "output_type": "execute_result"
    }
   ],
   "source": [
    "df.head()"
   ]
  },
  {
   "cell_type": "code",
   "execution_count": 58,
   "id": "polar-emergency",
   "metadata": {},
   "outputs": [
    {
     "data": {
      "image/png": "[encoded data removed]",
      "text/plain": [
       "<Figure size 1008x432 with 6 Axes>"
      ]
     },
     "metadata": {
      "needs_background": "light"
     },
     "output_type": "display_data"
    }
   ],
   "source": [
    "df[categorias].hist(bins=25,figsize=(14,6));"
   ]
  },
  {
   "cell_type": "code",
   "execution_count": 59,
   "id": "animated-warning",
   "metadata": {},
   "outputs": [],
   "source": [
    "# Preparación dataset\n",
    "X=df.drop(columns=['DayOfYear','flights_day','ArrDelay'])\n",
    "y=df['ArrDelay']\n",
    "\n",
    "# División en train/test\n",
    "X_train,X_test,y_train,y_test=train_test_split(X,y,random_state=1984,test_size=0.2)"
   ]
  },
  {
   "cell_type": "code",
   "execution_count": 60,
   "id": "northern-hobby",
   "metadata": {},
   "outputs": [],
   "source": [
    "modelo='Linear_2'\n",
    "\n",
    "# Standarizar valores\n",
    "scaler=StandardScaler()\n",
    "X_train_transform=scaler.fit_transform(X_train) # Entreno y transformo\n",
    "X_test_transform=scaler.transform(X_test) # Transformo con los datos del train test\n",
    "\n",
    "#Instanciar el modelo\n",
    "linearReg_2=LinearRegression()\n",
    "\n",
    "#Ajustar el modelo\n",
    "linearReg_2.fit(X_train_transform,y_train)\n",
    "\n",
    "#Evaluar el mopdelo\n",
    "y_pred=linearReg_2.predict(X_test_transform)\n",
    "\n",
    "linearReg_2_MAE=(mean_absolute_error(y_test,y_pred))\n",
    "linearReg_2_MSE=(mean_squared_error(y_test,y_pred))\n",
    "linearReg_2_MRSE=np.sqrt(mean_squared_error(y_test,y_pred))\n",
    "linearReg_2_R2=r2_score(y_test,y_pred)\n",
    "\n",
    "models[modelo]=(linearReg_2_R2,linearReg_2_MAE,linearReg_2_MSE,linearReg_2_MRSE)"
   ]
  },
  {
   "cell_type": "code",
   "execution_count": 61,
   "id": "dated-public",
   "metadata": {},
   "outputs": [
    {
     "data": {
      "text/plain": [
       "(0.9932172313514586, 2.9434275666716974, 21.594997515194617, 4.647041802608904)"
      ]
     },
     "execution_count": 61,
     "metadata": {},
     "output_type": "execute_result"
    }
   ],
   "source": [
    "models.get('Linear_2')"
   ]
  },
  {
   "cell_type": "code",
   "execution_count": 62,
   "id": "wrapped-ocean",
   "metadata": {},
   "outputs": [
    {
     "name": "stdout",
     "output_type": "stream",
     "text": [
      "Variable 0 - puntuación -0.078\n",
      "Variable 1 - puntuación 0.006\n",
      "Variable 2 - puntuación -0.008\n",
      "Variable 3 - puntuación -0.131\n",
      "Variable 4 - puntuación -0.599\n",
      "Variable 5 - puntuación 5.807\n",
      "Variable 6 - puntuación 0.534\n",
      "Variable 7 - puntuación 1.233\n",
      "Variable 8 - puntuación 0.219\n",
      "Variable 9 - puntuación -0.041\n",
      "Variable 10 - puntuación 0.059\n",
      "Variable 11 - puntuación -0.196\n",
      "Variable 12 - puntuación -0.802\n",
      "Variable 13 - puntuación -0.125\n",
      "Variable 14 - puntuación 31.809\n",
      "Variable 15 - puntuación 15.165\n",
      "Variable 16 - puntuación 24.865\n",
      "Variable 17 - puntuación 1.382\n",
      "Variable 18 - puntuación 31.275\n",
      "Variable 19 - puntuación -0.144\n"
     ]
    }
   ],
   "source": [
    "importancia=linearReg_2.coef_\n",
    "for i,v in enumerate(importancia):\n",
    "    print('Variable %d - puntuación %.3f' %(i,v))"
   ]
  },
  {
   "cell_type": "markdown",
   "id": "beginning-civilian",
   "metadata": {},
   "source": [
    "En este caso no se observa mucha mejora puesto que he modificado variables que no tenían mucha importancia en el modelo. Vamos a probar a hacer una variable que sea el logaritmo de la suma de los retrasos por causa."
   ]
  },
  {
   "cell_type": "code",
   "execution_count": 63,
   "id": "hungarian-bacteria",
   "metadata": {},
   "outputs": [],
   "source": [
    "df['Delay_FPH']=(np.log10(df.CarrierDelay+df.WeatherDelay+df.NASDelay+df.SecurityDelay+df.LateAircraftDelay+1))"
   ]
  },
  {
   "cell_type": "code",
   "execution_count": 64,
   "id": "reduced-rates",
   "metadata": {},
   "outputs": [],
   "source": [
    "# Preparación dataset\n",
    "X=df.drop(columns=['DayOfYear','flights_day','ArrDelay'])\n",
    "y=df['ArrDelay']\n",
    "\n",
    "# División en train/test\n",
    "X_train,X_test,y_train,y_test=train_test_split(X,y,random_state=1984,test_size=0.2)"
   ]
  },
  {
   "cell_type": "code",
   "execution_count": 65,
   "id": "hydraulic-compact",
   "metadata": {},
   "outputs": [],
   "source": [
    "modelo='Linear_3'\n",
    "\n",
    "# Standarizar valores\n",
    "scaler=StandardScaler()\n",
    "X_train_transform=scaler.fit_transform(X_train) # Entreno y transformo\n",
    "X_test_transform=scaler.transform(X_test) # Transformo con los datos del train test\n",
    "\n",
    "#Instanciar el modelo\n",
    "linearReg_3=LinearRegression()\n",
    "\n",
    "#Ajustar el modelo\n",
    "linearReg_3.fit(X_train_transform,y_train)\n",
    "\n",
    "#Evaluar el mopdelo\n",
    "y_pred=linearReg_3.predict(X_test_transform)\n",
    "\n",
    "linearReg_3_MAE=(mean_absolute_error(y_test,y_pred))\n",
    "linearReg_3_MSE=(mean_squared_error(y_test,y_pred))\n",
    "linearReg_3_MRSE=np.sqrt(mean_squared_error(y_test,y_pred))\n",
    "linearReg_3_R2=r2_score(y_test,y_pred)\n",
    "\n",
    "models[modelo]=(linearReg_3_R2,linearReg_3_MAE,linearReg_3_MSE,linearReg_3_MRSE)"
   ]
  },
  {
   "cell_type": "code",
   "execution_count": 66,
   "id": "miniature-danger",
   "metadata": {},
   "outputs": [
    {
     "data": {
      "text/plain": [
       "(0.9935259454758206, 2.618669167572761, 20.612112635295496, 4.540056457280625)"
      ]
     },
     "execution_count": 66,
     "metadata": {},
     "output_type": "execute_result"
    }
   ],
   "source": [
    "models.get('Linear_3')"
   ]
  },
  {
   "cell_type": "code",
   "execution_count": 67,
   "id": "standard-print",
   "metadata": {},
   "outputs": [
    {
     "name": "stdout",
     "output_type": "stream",
     "text": [
      "Variable 0 - puntuación -0.082\n",
      "Variable 1 - puntuación 0.001\n",
      "Variable 2 - puntuación -0.016\n",
      "Variable 3 - puntuación -0.071\n",
      "Variable 4 - puntuación -0.223\n",
      "Variable 5 - puntuación 4.051\n",
      "Variable 6 - puntuación 0.472\n",
      "Variable 7 - puntuación 1.019\n",
      "Variable 8 - puntuación 0.120\n",
      "Variable 9 - puntuación -0.052\n",
      "Variable 10 - puntuación -0.007\n",
      "Variable 11 - puntuación -0.176\n",
      "Variable 12 - puntuación -0.821\n",
      "Variable 13 - puntuación -0.108\n",
      "Variable 14 - puntuación 33.750\n",
      "Variable 15 - puntuación 16.039\n",
      "Variable 16 - puntuación 26.330\n",
      "Variable 17 - puntuación 1.489\n",
      "Variable 18 - puntuación 33.380\n",
      "Variable 19 - puntuación -0.008\n",
      "Variable 20 - puntuación -1.664\n"
     ]
    }
   ],
   "source": [
    "importancia=linearReg_3.coef_\n",
    "for i,v in enumerate(importancia):\n",
    "    print('Variable %d - puntuación %.3f' %(i,v))"
   ]
  },
  {
   "cell_type": "markdown",
   "id": "approved-farmer",
   "metadata": {},
   "source": [
    "Al crear una variable que es el cuadrado del logaritmo de la suma total de retrasos por causa, en esta ocasión hemos mejorado disminuyendo el error absoluto medio. "
   ]
  },
  {
   "cell_type": "markdown",
   "id": "prerequisite-freeware",
   "metadata": {},
   "source": [
    "\n",
    "## Nivell 3\n",
    "\n",
    "\n",
    "### Exercici 6\n",
    "No utilitzis la variable DepDelay a l’hora de fer prediccions"
   ]
  },
  {
   "cell_type": "markdown",
   "id": "excess-imperial",
   "metadata": {},
   "source": [
    "En este caso dejaré fuera del modelo la variable DepDelay."
   ]
  },
  {
   "cell_type": "code",
   "execution_count": 68,
   "id": "instrumental-stanford",
   "metadata": {},
   "outputs": [
    {
     "data": {
      "text/html": [
       "<div>\n",
       "<style scoped>\n",
       "    .dataframe tbody tr th:only-of-type {\n",
       "        vertical-align: middle;\n",
       "    }\n",
       "\n",
       "    .dataframe tbody tr th {\n",
       "        vertical-align: top;\n",
       "    }\n",
       "\n",
       "    .dataframe thead th {\n",
       "        text-align: right;\n",
       "    }\n",
       "</style>\n",
       "<table border=\"1\" class=\"dataframe\">\n",
       "  <thead>\n",
       "    <tr style=\"text-align: right;\">\n",
       "      <th></th>\n",
       "      <th>DayOfYear</th>\n",
       "      <th>Month</th>\n",
       "      <th>Day</th>\n",
       "      <th>DayOfWeek</th>\n",
       "      <th>Hour</th>\n",
       "      <th>Status</th>\n",
       "      <th>ArrDelay</th>\n",
       "      <th>DepDelay</th>\n",
       "      <th>TaxiIn</th>\n",
       "      <th>TaxiOut</th>\n",
       "      <th>...</th>\n",
       "      <th>Dest</th>\n",
       "      <th>Distance</th>\n",
       "      <th>Skyway</th>\n",
       "      <th>CarrierDelay</th>\n",
       "      <th>WeatherDelay</th>\n",
       "      <th>NASDelay</th>\n",
       "      <th>SecurityDelay</th>\n",
       "      <th>LateAircraftDelay</th>\n",
       "      <th>flights_hour</th>\n",
       "      <th>flights_day</th>\n",
       "    </tr>\n",
       "  </thead>\n",
       "  <tbody>\n",
       "    <tr>\n",
       "      <th>0</th>\n",
       "      <td>3</td>\n",
       "      <td>1</td>\n",
       "      <td>3</td>\n",
       "      <td>4</td>\n",
       "      <td>19</td>\n",
       "      <td>On time</td>\n",
       "      <td>-14.0</td>\n",
       "      <td>8.0</td>\n",
       "      <td>4.0</td>\n",
       "      <td>8.0</td>\n",
       "      <td>...</td>\n",
       "      <td>TPA</td>\n",
       "      <td>810</td>\n",
       "      <td>IAD-TPA</td>\n",
       "      <td>0.0</td>\n",
       "      <td>0.0</td>\n",
       "      <td>0.0</td>\n",
       "      <td>0.0</td>\n",
       "      <td>0.0</td>\n",
       "      <td>6</td>\n",
       "      <td>95</td>\n",
       "    </tr>\n",
       "    <tr>\n",
       "      <th>1</th>\n",
       "      <td>3</td>\n",
       "      <td>1</td>\n",
       "      <td>3</td>\n",
       "      <td>4</td>\n",
       "      <td>7</td>\n",
       "      <td>On time</td>\n",
       "      <td>2.0</td>\n",
       "      <td>19.0</td>\n",
       "      <td>5.0</td>\n",
       "      <td>10.0</td>\n",
       "      <td>...</td>\n",
       "      <td>TPA</td>\n",
       "      <td>810</td>\n",
       "      <td>IAD-TPA</td>\n",
       "      <td>0.0</td>\n",
       "      <td>0.0</td>\n",
       "      <td>0.0</td>\n",
       "      <td>0.0</td>\n",
       "      <td>0.0</td>\n",
       "      <td>9</td>\n",
       "      <td>95</td>\n",
       "    </tr>\n",
       "    <tr>\n",
       "      <th>2</th>\n",
       "      <td>3</td>\n",
       "      <td>1</td>\n",
       "      <td>3</td>\n",
       "      <td>4</td>\n",
       "      <td>6</td>\n",
       "      <td>On time</td>\n",
       "      <td>14.0</td>\n",
       "      <td>8.0</td>\n",
       "      <td>3.0</td>\n",
       "      <td>17.0</td>\n",
       "      <td>...</td>\n",
       "      <td>BWI</td>\n",
       "      <td>515</td>\n",
       "      <td>IND-BWI</td>\n",
       "      <td>0.0</td>\n",
       "      <td>0.0</td>\n",
       "      <td>0.0</td>\n",
       "      <td>0.0</td>\n",
       "      <td>0.0</td>\n",
       "      <td>2</td>\n",
       "      <td>39</td>\n",
       "    </tr>\n",
       "    <tr>\n",
       "      <th>3</th>\n",
       "      <td>3</td>\n",
       "      <td>1</td>\n",
       "      <td>3</td>\n",
       "      <td>4</td>\n",
       "      <td>17</td>\n",
       "      <td>Delayed</td>\n",
       "      <td>34.0</td>\n",
       "      <td>34.0</td>\n",
       "      <td>3.0</td>\n",
       "      <td>10.0</td>\n",
       "      <td>...</td>\n",
       "      <td>BWI</td>\n",
       "      <td>515</td>\n",
       "      <td>IND-BWI</td>\n",
       "      <td>2.0</td>\n",
       "      <td>0.0</td>\n",
       "      <td>0.0</td>\n",
       "      <td>0.0</td>\n",
       "      <td>32.0</td>\n",
       "      <td>3</td>\n",
       "      <td>39</td>\n",
       "    </tr>\n",
       "    <tr>\n",
       "      <th>4</th>\n",
       "      <td>3</td>\n",
       "      <td>1</td>\n",
       "      <td>3</td>\n",
       "      <td>4</td>\n",
       "      <td>19</td>\n",
       "      <td>On time</td>\n",
       "      <td>11.0</td>\n",
       "      <td>25.0</td>\n",
       "      <td>4.0</td>\n",
       "      <td>10.0</td>\n",
       "      <td>...</td>\n",
       "      <td>JAX</td>\n",
       "      <td>688</td>\n",
       "      <td>IND-JAX</td>\n",
       "      <td>0.0</td>\n",
       "      <td>0.0</td>\n",
       "      <td>0.0</td>\n",
       "      <td>0.0</td>\n",
       "      <td>0.0</td>\n",
       "      <td>2</td>\n",
       "      <td>39</td>\n",
       "    </tr>\n",
       "  </tbody>\n",
       "</table>\n",
       "<p>5 rows × 23 columns</p>\n",
       "</div>"
      ],
      "text/plain": [
       "   DayOfYear  Month  Day  DayOfWeek  Hour   Status  ArrDelay  DepDelay  \\\n",
       "0          3      1    3          4    19  On time     -14.0       8.0   \n",
       "1          3      1    3          4     7  On time       2.0      19.0   \n",
       "2          3      1    3          4     6  On time      14.0       8.0   \n",
       "3          3      1    3          4    17  Delayed      34.0      34.0   \n",
       "4          3      1    3          4    19  On time      11.0      25.0   \n",
       "\n",
       "   TaxiIn  TaxiOut  ... Dest  Distance   Skyway CarrierDelay  WeatherDelay  \\\n",
       "0     4.0      8.0  ...  TPA       810  IAD-TPA          0.0           0.0   \n",
       "1     5.0     10.0  ...  TPA       810  IAD-TPA          0.0           0.0   \n",
       "2     3.0     17.0  ...  BWI       515  IND-BWI          0.0           0.0   \n",
       "3     3.0     10.0  ...  BWI       515  IND-BWI          2.0           0.0   \n",
       "4     4.0     10.0  ...  JAX       688  IND-JAX          0.0           0.0   \n",
       "\n",
       "  NASDelay  SecurityDelay  LateAircraftDelay  flights_hour  flights_day  \n",
       "0      0.0            0.0                0.0             6           95  \n",
       "1      0.0            0.0                0.0             9           95  \n",
       "2      0.0            0.0                0.0             2           39  \n",
       "3      0.0            0.0               32.0             3           39  \n",
       "4      0.0            0.0                0.0             2           39  \n",
       "\n",
       "[5 rows x 23 columns]"
      ]
     },
     "execution_count": 68,
     "metadata": {},
     "output_type": "execute_result"
    }
   ],
   "source": [
    "df=pd.read_csv('vuelos_final_pre.csv')\n",
    "df.head()"
   ]
  },
  {
   "cell_type": "code",
   "execution_count": 69,
   "id": "indonesian-denver",
   "metadata": {},
   "outputs": [],
   "source": [
    "df['Delay_FPH']=(np.log10(df.CarrierDelay+df.WeatherDelay+df.NASDelay+df.SecurityDelay+df.LateAircraftDelay+1))"
   ]
  },
  {
   "cell_type": "code",
   "execution_count": 70,
   "id": "impressive-shield",
   "metadata": {},
   "outputs": [],
   "source": [
    "# Frecuency encoding\n",
    "\n",
    "categorias=df.select_dtypes(include='object').columns\n",
    "\n",
    "for cat in categorias: \n",
    "    cat_mapping=df.groupby(cat).size()/len(df)*100\n",
    "    df[cat]=df[cat].map(cat_mapping)\n"
   ]
  },
  {
   "cell_type": "code",
   "execution_count": 71,
   "id": "divine-contact",
   "metadata": {},
   "outputs": [],
   "source": [
    "# Predictores y target\n",
    "X=df.drop(columns=['DepDelay','ArrDelay'])\n",
    "y=df['DepDelay']"
   ]
  },
  {
   "cell_type": "code",
   "execution_count": 72,
   "id": "anonymous-final",
   "metadata": {},
   "outputs": [],
   "source": [
    "# División en train/test\n",
    "X_train,X_test,y_train,y_test=train_test_split(X,y,random_state=1984,test_size=0.2)"
   ]
  },
  {
   "cell_type": "markdown",
   "id": "discrete-bangkok",
   "metadata": {},
   "source": [
    "**Regrasió Lineal**"
   ]
  },
  {
   "cell_type": "code",
   "execution_count": 73,
   "id": "congressional-mixture",
   "metadata": {},
   "outputs": [],
   "source": [
    "modelo_1=Pipeline(steps=[('scaler',StandardScaler()),\n",
    "                         ('Feature_Selection',SelectKBest(score_func=f_regression)),\n",
    "                         ('Regressor',LinearRegression())])\n",
    "\n",
    "hyp_modelo_1={'Feature_Selection__k':[1,2,3,5,9,13,17]}\n",
    "\n",
    "grid_modelo_1=GridSearchCV(modelo_1,\n",
    "                           hyp_modelo_1,\n",
    "                           scoring='neg_mean_absolute_error',\n",
    "                           cv=10)"
   ]
  },
  {
   "cell_type": "code",
   "execution_count": 74,
   "id": "endless-international",
   "metadata": {},
   "outputs": [
    {
     "data": {
      "text/plain": [
       "GridSearchCV(cv=10,\n",
       "             estimator=Pipeline(steps=[('scaler', StandardScaler()),\n",
       "                                       ('Feature_Selection',\n",
       "                                        SelectKBest(score_func=<function f_regression at 0x0000018FAC12A550>)),\n",
       "                                       ('Regressor', LinearRegression())]),\n",
       "             param_grid={'Feature_Selection__k': [1, 2, 3, 5, 9, 13, 17]},\n",
       "             scoring='neg_mean_absolute_error')"
      ]
     },
     "execution_count": 74,
     "metadata": {},
     "output_type": "execute_result"
    }
   ],
   "source": [
    "grid_modelo_1.fit(X_train,y_train)"
   ]
  },
  {
   "cell_type": "code",
   "execution_count": 75,
   "id": "pressing-defensive",
   "metadata": {},
   "outputs": [
    {
     "data": {
      "text/plain": [
       "-7.2413850992526125"
      ]
     },
     "execution_count": 75,
     "metadata": {},
     "output_type": "execute_result"
    }
   ],
   "source": [
    "grid_modelo_1.best_score_"
   ]
  },
  {
   "cell_type": "code",
   "execution_count": 76,
   "id": "union-uncle",
   "metadata": {},
   "outputs": [
    {
     "data": {
      "text/plain": [
       "Pipeline(steps=[('scaler', StandardScaler()),\n",
       "                ('Feature_Selection',\n",
       "                 SelectKBest(k=17,\n",
       "                             score_func=<function f_regression at 0x0000018FAC12A550>)),\n",
       "                ('Regressor', LinearRegression())])"
      ]
     },
     "execution_count": 76,
     "metadata": {},
     "output_type": "execute_result"
    }
   ],
   "source": [
    "grid_modelo_1.best_estimator_\n"
   ]
  },
  {
   "cell_type": "code",
   "execution_count": 77,
   "id": "dimensional-throat",
   "metadata": {},
   "outputs": [],
   "source": [
    "y_pred=grid_modelo_1.predict(X_test)"
   ]
  },
  {
   "cell_type": "code",
   "execution_count": 78,
   "id": "understood-carroll",
   "metadata": {},
   "outputs": [
    {
     "data": {
      "text/plain": [
       "0.9635926095857142"
      ]
     },
     "execution_count": 78,
     "metadata": {},
     "output_type": "execute_result"
    }
   ],
   "source": [
    "r2_score(y_test,y_pred)"
   ]
  },
  {
   "cell_type": "code",
   "execution_count": 79,
   "id": "modern-confidentiality",
   "metadata": {},
   "outputs": [
    {
     "data": {
      "text/plain": [
       "7.233679125921607"
      ]
     },
     "execution_count": 79,
     "metadata": {},
     "output_type": "execute_result"
    }
   ],
   "source": [
    "mean_absolute_error(y_test,y_pred)"
   ]
  },
  {
   "cell_type": "markdown",
   "id": "wanted-testament",
   "metadata": {},
   "source": [
    "**Arbol de decisión regresor**"
   ]
  },
  {
   "cell_type": "code",
   "execution_count": 80,
   "id": "aerial-cabin",
   "metadata": {},
   "outputs": [
    {
     "data": {
      "text/plain": [
       "(6.286376577109165, 106.08671442721055, 106.08671442721055, 0.962107824605372)"
      ]
     },
     "execution_count": 80,
     "metadata": {},
     "output_type": "execute_result"
    }
   ],
   "source": [
    "# Instanciar el modelo\n",
    "arbol=DecisionTreeRegressor()\n",
    "\n",
    "# Ajustar el modelos\n",
    "arbol.fit(X_train,y_train)\n",
    "\n",
    "#Evaluar el mopdelo\n",
    "y_pred=arbol.predict(X_test)\n",
    "\n",
    "arbol_MAE=(mean_absolute_error(y_test,y_pred))\n",
    "arbol_MSE=(mean_squared_error(y_test,y_pred))\n",
    "arbol_MRSE=np.sqrt(mean_squared_error(y_test,y_pred))\n",
    "arbol_R2=r2_score(y_test,y_pred)\n",
    "\n",
    "arbol_MAE,arbol_MSE,arbol_MSE,arbol_R2"
   ]
  },
  {
   "cell_type": "markdown",
   "id": "differential-myrtle",
   "metadata": {},
   "source": [
    "Hemos mejorado el error medio absoluto utilizando un arbol de decisión regresor, veamos la im portancia de las variables. "
   ]
  },
  {
   "cell_type": "code",
   "execution_count": 81,
   "id": "northern-movement",
   "metadata": {},
   "outputs": [
    {
     "data": {
      "image/png": "[encoded data removed]",
      "text/plain": [
       "<Figure size 864x432 with 1 Axes>"
      ]
     },
     "metadata": {
      "needs_background": "light"
     },
     "output_type": "display_data"
    }
   ],
   "source": [
    "# Feature importance\n",
    "plt.subplots(figsize=(12,6))\n",
    "plt.bar([x for x in range(len(arbol.feature_importances_))],arbol.feature_importances_)\n",
    "plt.show();"
   ]
  },
  {
   "cell_type": "code",
   "execution_count": 82,
   "id": "catholic-tobacco",
   "metadata": {},
   "outputs": [
    {
     "data": {
      "text/plain": [
       "{'ccp_alpha': 0.0,\n",
       " 'criterion': 'mse',\n",
       " 'max_depth': None,\n",
       " 'max_features': None,\n",
       " 'max_leaf_nodes': None,\n",
       " 'min_impurity_decrease': 0.0,\n",
       " 'min_impurity_split': None,\n",
       " 'min_samples_leaf': 1,\n",
       " 'min_samples_split': 2,\n",
       " 'min_weight_fraction_leaf': 0.0,\n",
       " 'random_state': None,\n",
       " 'splitter': 'best'}"
      ]
     },
     "execution_count": 82,
     "metadata": {},
     "output_type": "execute_result"
    }
   ],
   "source": [
    "arbol.get_params()"
   ]
  },
  {
   "cell_type": "markdown",
   "id": "spiritual-gazette",
   "metadata": {},
   "source": [
    "**Random Forest Regresor**"
   ]
  },
  {
   "cell_type": "code",
   "execution_count": 83,
   "id": "filled-carnival",
   "metadata": {},
   "outputs": [
    {
     "data": {
      "text/plain": [
       "RandomForestRegressor(max_features='sqrt', n_estimators=75)"
      ]
     },
     "execution_count": 83,
     "metadata": {},
     "output_type": "execute_result"
    }
   ],
   "source": [
    "# Instanciar el modelo\n",
    "rf=RandomForestRegressor(n_estimators=75,max_features='sqrt')\n",
    "\n",
    "# Ajustar el modelos\n",
    "rf.fit(X_train,y_train)\n"
   ]
  },
  {
   "cell_type": "code",
   "execution_count": 84,
   "id": "numerical-hobby",
   "metadata": {},
   "outputs": [
    {
     "data": {
      "text/plain": [
       "(4.771271311464548, 55.789115193298464, 55.789115193298464, 0.9800731792908335)"
      ]
     },
     "execution_count": 84,
     "metadata": {},
     "output_type": "execute_result"
    }
   ],
   "source": [
    "#Evaluar el modelo\n",
    "y_pred=rf.predict(X_test)\n",
    "\n",
    "rf_MAE=(mean_absolute_error(y_test,y_pred))\n",
    "rf_MSE=(mean_squared_error(y_test,y_pred))\n",
    "rf_MRSE=np.sqrt(mean_squared_error(y_test,y_pred))\n",
    "rf_R2=r2_score(y_test,y_pred)\n",
    "\n",
    "rf_MAE,rf_MSE,rf_MSE,rf_R2"
   ]
  },
  {
   "cell_type": "code",
   "execution_count": 85,
   "id": "prostate-district",
   "metadata": {},
   "outputs": [
    {
     "data": {
      "image/png": "[encoded data removed]",
      "text/plain": [
       "<Figure size 864x432 with 1 Axes>"
      ]
     },
     "metadata": {
      "needs_background": "light"
     },
     "output_type": "display_data"
    }
   ],
   "source": [
    "# Feature importance\n",
    "plt.subplots(figsize=(12,6))\n",
    "plt.bar([x for x in range(len(rf.feature_importances_))],rf.feature_importances_)\n",
    "plt.show();"
   ]
  },
  {
   "cell_type": "code",
   "execution_count": 86,
   "id": "competitive-float",
   "metadata": {},
   "outputs": [
    {
     "data": {
      "text/plain": [
       "RandomForestRegressor(n_estimators=75)"
      ]
     },
     "execution_count": 86,
     "metadata": {},
     "output_type": "execute_result"
    }
   ],
   "source": [
    "# Instanciar el modelo\n",
    "rf2=RandomForestRegressor(n_estimators=75,max_features='auto')\n",
    "\n",
    "# Ajustar el modelos\n",
    "rf2.fit(X_train,y_train)"
   ]
  },
  {
   "cell_type": "code",
   "execution_count": 87,
   "id": "conventional-annex",
   "metadata": {},
   "outputs": [
    {
     "data": {
      "text/plain": [
       "(4.771271311464548, 55.789115193298464, 55.789115193298464, 0.9800731792908335)"
      ]
     },
     "execution_count": 87,
     "metadata": {},
     "output_type": "execute_result"
    }
   ],
   "source": [
    "#Evaluar el modelo\n",
    "y_pred=rf2.predict(X_test)\n",
    "\n",
    "rf2_MAE=(mean_absolute_error(y_test,y_pred))\n",
    "rf2_MSE=(mean_squared_error(y_test,y_pred))\n",
    "rf2_MRSE=np.sqrt(mean_squared_error(y_test,y_pred))\n",
    "rf2_R2=r2_score(y_test,y_pred)\n",
    "\n",
    "rf2_MAE,rf2_MSE,rf2_MSE,rf2_R2"
   ]
  },
  {
   "cell_type": "code",
   "execution_count": 88,
   "id": "interim-channel",
   "metadata": {},
   "outputs": [
    {
     "data": {
      "image/png": "[encoded data removed]",
      "text/plain": [
       "<Figure size 864x432 with 1 Axes>"
      ]
     },
     "metadata": {
      "needs_background": "light"
     },
     "output_type": "display_data"
    }
   ],
   "source": [
    "# Feature importance\n",
    "plt.subplots(figsize=(12,6))\n",
    "plt.bar([x for x in range(len(rf2.feature_importances_))],rf2.feature_importances_)\n",
    "plt.show();"
   ]
  },
  {
   "cell_type": "code",
   "execution_count": 89,
   "id": "under-masters",
   "metadata": {},
   "outputs": [
    {
     "data": {
      "text/plain": [
       "(4.771271311464548, 55.789115193298464, 55.789115193298464, 0.9800731792908335)"
      ]
     },
     "execution_count": 89,
     "metadata": {},
     "output_type": "execute_result"
    }
   ],
   "source": [
    "# Instanciar el modelo\n",
    "rf3=RandomForestRegressor(n_estimators=50,\n",
    "                          max_features='auto',\n",
    "                          min_samples_split=10)\n",
    "\n",
    "# Ajustar el modelos\n",
    "rf3.fit(X_train,y_train)\n",
    "\n",
    "#Evaluar el modelo\n",
    "y_pred=rf.predict(X_test)\n",
    "\n",
    "rf3_MAE=(mean_absolute_error(y_test,y_pred))\n",
    "rf3_MSE=(mean_squared_error(y_test,y_pred))\n",
    "rf3_MRSE=np.sqrt(mean_squared_error(y_test,y_pred))\n",
    "rf3_R2=r2_score(y_test,y_pred)\n",
    "\n",
    "rf3_MAE,rf3_MSE,rf3_MSE,rf3_R2"
   ]
  },
  {
   "cell_type": "code",
   "execution_count": 90,
   "id": "violent-imperial",
   "metadata": {},
   "outputs": [
    {
     "data": {
      "image/png": "[encoded data removed]",
      "text/plain": [
       "<Figure size 864x432 with 1 Axes>"
      ]
     },
     "metadata": {
      "needs_background": "light"
     },
     "output_type": "display_data"
    }
   ],
   "source": [
    "# Feature importance\n",
    "plt.subplots(figsize=(12,6))\n",
    "plt.bar([x for x in range(len(rf3.feature_importances_))],rf3.feature_importances_)\n",
    "plt.show();"
   ]
  },
  {
   "cell_type": "code",
   "execution_count": null,
   "id": "small-fight",
   "metadata": {},
   "outputs": [],
   "source": []
  }
 ],
 "metadata": {
  "kernelspec": {
   "display_name": "Python 3",
   "language": "python",
   "name": "python3"
  },
  "language_info": {
   "codemirror_mode": {
    "name": "ipython",
    "version": 3
   },
   "file_extension": ".py",
   "mimetype": "text/x-python",
   "name": "python",
   "nbconvert_exporter": "python",
   "pygments_lexer": "ipython3",
   "version": "3.8.5"
  }
 },
 "nbformat": 4,
 "nbformat_minor": 5
}
